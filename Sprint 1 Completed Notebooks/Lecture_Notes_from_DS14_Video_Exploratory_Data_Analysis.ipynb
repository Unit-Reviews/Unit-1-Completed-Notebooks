{
  "nbformat": 4,
  "nbformat_minor": 0,
  "metadata": {
    "colab": {
      "name": "Lecture Notes from DS14 Video: Exploratory_Data_Analysis.ipynb",
      "provenance": [],
      "collapsed_sections": []
    },
    "kernelspec": {
      "name": "python3",
      "display_name": "Python 3"
    }
  },
  "cells": [
    {
      "cell_type": "markdown",
      "metadata": {
        "id": "Ldr0HZ193GKb",
        "colab_type": "text"
      },
      "source": [
        "Lambda School Data Science\n",
        "\n",
        "*Unit 1, Sprint 1, Module 1*\n",
        "\n",
        "---\n",
        "\n"
      ]
    },
    {
      "cell_type": "markdown",
      "metadata": {
        "id": "2CkckTc6-txA",
        "colab_type": "text"
      },
      "source": [
        "# Exploratory Data Analysis\n",
        "\n",
        "- Student can submit assignments via GitHub (save work to GitHub).\n",
        "- Student can load a dataset (CSV) from a URL using `pandas.read_csv()`\n",
        "- Student can load a dataset (CSV) from a local file using `pandas.read_csv()`\n",
        "- Student can use basic pandas EDA functions like: `pandas.describe()`, `pandas.isnull()`, `pandas.value_counts()`, `pandas.crosstab()`.\n",
        "- Student can generate basic visualizations with Pandas: line plot, histogram, scatterplot, density plot."
      ]
    },
    {
      "cell_type": "code",
      "metadata": {
        "id": "fSZxOmuJVmUI",
        "colab_type": "code",
        "colab": {
          "base_uri": "https://localhost:8080/",
          "height": 35
        },
        "outputId": "57126307-e7ce-45d4-edd6-704d61504a1d"
      },
      "source": [
        "print(\"I am making a change to this file.\")"
      ],
      "execution_count": 1,
      "outputs": [
        {
          "output_type": "stream",
          "text": [
            "I am making a change to this file.\n"
          ],
          "name": "stdout"
        }
      ]
    },
    {
      "cell_type": "markdown",
      "metadata": {
        "id": "FnOWk3zMOuqz",
        "colab_type": "text"
      },
      "source": [
        "# [Objective](#save-to-github) - Save a .ipynb file (Colab Notebook) to GitHub\n",
        "\n"
      ]
    },
    {
      "cell_type": "markdown",
      "metadata": {
        "id": "fCryOFLnm_vc",
        "colab_type": "text"
      },
      "source": [
        "## Overview\n",
        "\n",
        "GitHub is a website where you can save code or other files either for personal use or for sharing with others. The website is used primarily for storing \"open-source\" project files so that users can work together on large code bases without overwriting each other's work. You will be using GitHub to collaborate on large projects, both with other students and in your career. \n",
        "\n",
        "In order to help you get familiar with this tool we have structured our assignment submission process around the typical GitHub workflow to try and mimic how this tool is used. The following process is the workflow that you will follow in order to submit your assignments so that the Team Leads can view your work and give you daily feedback."
      ]
    },
    {
      "cell_type": "markdown",
      "metadata": {
        "id": "OF5FwWe1m-Wo",
        "colab_type": "text"
      },
      "source": [
        "## Follow Along"
      ]
    },
    {
      "cell_type": "markdown",
      "metadata": {
        "id": "M8moDKv-Tg63",
        "colab_type": "text"
      },
      "source": [
        "### 1) Fork the Repository for that Sprint at the beginning of the Sprint\n",
        "\n",
        "**NOTE: You will only do this step a single time at the beginning of each sprint.**\n",
        "\n",
        "Go to <http://github.com/lambdaschool>\n",
        "\n",
        "All of our data science curriculum can be accessed through this page.\n",
        "\n",
        "In the search bar start typing:\n",
        "\n",
        "`DS-Unit-1-Sprint-1-Data-Wrangling-and-Storytelling`\n",
        "\n",
        "Repositories that don't match what you are typing in the search bar will be filtered out, eventually leaving this sprint's repository. \n",
        "\n",
        "> \"Repository\" is fancy work that just means: folder where we are going to store some files on GitHub. You'll hear people say \"repo\" for short.\n",
        "\n",
        "**At the beginning of each sprint you will need to find that sprint's corresponding repository and \"fork\" it to your personal GitHub account.** \"Forking\" a repository is GitHub lingo for \"Make a copy.\" If you click the fork button on the top right corner of the webpage, GitHub will make a copy of the folder of files that we will be using for that sprint to your personal GitHub account. You will be doing your work and saving your changes to the copied version on your account.\n",
        "\n",
        "You can tell when you have successfully forked a repository because you should briefly see an animation appear that looks like a book is being photocopied with a fork stuck in it and then you will be redirected to your copy of the repository.\n",
        "\n",
        "You can always tell when you're looking at the forked version on your personal github account by looking at the name of the repository and looking at the username that is just to the left of it in the filepath:\n",
        "\n",
        "![Forked Repository Username Screenshot](https://lambdachops.com/img/fork-repository-screenshot.png)\n"
      ]
    },
    {
      "cell_type": "markdown",
      "metadata": {
        "id": "DHgG8kFqYAz0",
        "colab_type": "text"
      },
      "source": [
        "### 2) Open one of the files and make a change to it. \n",
        "\n",
        "The files that we will be working with primarily during the course have the file extension: .ipynb for \"IPython Notebook\" any of these are notebooks that we can open in Google Colab.\n",
        "\n",
        "To open one of these notebook files in Google Colab go to:\n",
        "\n",
        "<https://colab.research.google.com/github/> \n",
        "\n",
        "If you haven't done so already, give Google permission to access your GitHub account from your Google Account.\n",
        "\n",
        "Once you have all of the permissions sorted out, select the repository that you're most interested in from the dropdown menu. Once you select a repository Google Colab will look through it to find all of the .ipynb files and will list them below:\n",
        "\n",
        "![Open .ipynb file from GitHub in Google Colab](https://lambdachops.com/img/google-colab-github.png)\n",
        "\n",
        "If you don't like going to this link everyday to open your notebooks, there is also a Google Chrome extension that you can use to easily open any .ipynb file from GitHub directly in Google Colab: \n",
        "\n",
        "### [Google Chrome Extension to Open .ipynb files easily in Google Colab](https://chrome.google.com/webstore/detail/open-in-colab/iogfkhleblhcpcekbiedikdehleodpjo?hl=en)"
      ]
    },
    {
      "cell_type": "markdown",
      "metadata": {
        "id": "OdRobgtWZrex",
        "colab_type": "text"
      },
      "source": [
        "### 3) Save your changes back to your forked repository on Github.\n",
        "\n",
        "Once you have finished making all of the changes that you want to the notebook, you can save your work back to GitHub by selecting `File` >> `Save a copy in GitHub` from the dropdown menu. \n",
        "\n",
        "When you select this a new tab will open in your browser to show you the saved file on GitHub to let you know that the save has been completed successfully.\n",
        "\n",
        "![Save A Copy In Github](https://lambdachops.com/img/save-a-copy-in-github.png)\n",
        "\n",
        "### You will do steps 2 and 3 of this process every day as you work on your assignment work, however, you will only do steps 1 and 4 at the beginning of a sprint."
      ]
    },
    {
      "cell_type": "markdown",
      "metadata": {
        "id": "z_EX6QN9babi",
        "colab_type": "text"
      },
      "source": [
        "### 4) Submit a \"Pull Request\" of your work.\n",
        "\n",
        "The final step in submitting your work is to open a \"Pull Request\" GitHub won't allow you to complete this step until you have saved some changes to your version of the repository on GitHub.\n",
        "\n",
        "Opening a Pull Request is something that only needs to be done once per week (typically at the beginning of the week). This pull request is what ties your work back to the original Lambda School repository and makes it easy for the Team Leads to find your work.\n",
        "\n",
        "In order to open a pull request, navigate to your repository on GitHub and select the \"Pull Requests\" tab at the top of the page.\n",
        "\n",
        "![Pull Requests Tab](https://lambdachops.com/img/pull-request.png)\n",
        "\n",
        "To open a new pull request you will need to click the green \"New Pull Request\" button and give your pull request a title. Please include your name and Cohort number i.e. DS8, DS9, or DS10, etc. at the beginning of the pull request title so that the Team Leads can easily identify your Pull Request. Once you have filled out the title, just click the remaining large green buttons until the pull request has been submitted.\n"
      ]
    },
    {
      "cell_type": "markdown",
      "metadata": {
        "id": "v1KNmIgQdbOo",
        "colab_type": "text"
      },
      "source": [
        "### In Summary\n",
        "\n",
        "1) Fork the Repository (make a copy to your personal account)\n",
        "\n",
        "2) Open the Repository in Google Colab and make changes to the files (work on your assignment).\n",
        "\n",
        "3) Save the changes back to github using the dropdown menu.\n",
        "\n",
        "4) Make sure that sometime before the end of the first day of the sprint that you have submitted a Pull Request so that the TLs can find your work."
      ]
    },
    {
      "cell_type": "markdown",
      "metadata": {
        "id": "-s3sC4gwrFGN",
        "colab_type": "text"
      },
      "source": [
        "## Challenge\n",
        "\n",
        "You'll have to do follow this process or one very close to it every day/week for the next nine months. If this feels a little bit overwhelming at first, don't worry about it! We will be doing this everyday and you have your Team Leads and classmates to lean on for help. You'll be a pro at using GitHub in no time.\n",
        "\n",
        "If you're already familiar with GitHub and or Git via the command line, feel free to use the tools that you are most comfortable with, but you still need to save your work to GitHub every day."
      ]
    },
    {
      "cell_type": "markdown",
      "metadata": {
        "id": "QszuYn1bnZSe",
        "colab_type": "text"
      },
      "source": [
        "# [Objective](#load-csv-from-url) - Load a dataset (CSV) via its URL"
      ]
    },
    {
      "cell_type": "markdown",
      "metadata": {
        "id": "_7uhS1HHOaR-",
        "colab_type": "text"
      },
      "source": [
        "## Overview\n",
        "\n",
        "In order to practice Loading Datasets into Google Colab, we're going to use the [Flags Dataset](https://archive.ics.uci.edu/ml/datasets/Flags) from UCI to show both loading the dataset via its URL and from a local file.\n",
        "\n",
        "Steps for loading a dataset:\n",
        "\n",
        "1) Learn as much as you can about the dataset:\n",
        " - Number of rows\n",
        " - Number of columns\n",
        " - Column headers (Is there a \"data dictionary\"?)\n",
        " - Is there missing data?\n",
        " - **OPEN THE RAW FILE AND LOOK AT IT. IT MAY NOT BE FORMATTED IN THE WAY THAT YOU EXPECT.**\n",
        "\n",
        "2) Try loading the dataset using `pandas.read_csv()` and if things aren't acting the way that you expect, investigate until you can get it loading correctly.\n",
        "\n",
        "3) Keep in mind that functions like `pandas.read_csv()` have a lot of optional parameters that might help us change the way that data is read in. If you get stuck, google, read the documentation, and try things out.\n",
        "\n",
        "4) You might need to type out column headers by hand if they are not provided in a neat format in the original dataset. It can be a drag."
      ]
    },
    {
      "cell_type": "markdown",
      "metadata": {
        "id": "8vpS8MBjm7A0",
        "colab_type": "text"
      },
      "source": [
        "## Follow Along"
      ]
    },
    {
      "cell_type": "markdown",
      "metadata": {
        "id": "vZobh57ag1S9",
        "colab_type": "text"
      },
      "source": [
        "### Learn about the dataset and look at the raw file."
      ]
    },
    {
      "cell_type": "code",
      "metadata": {
        "id": "sYypbXovgaSi",
        "colab_type": "code",
        "colab": {
          "base_uri": "https://localhost:8080/",
          "height": 1000
        },
        "outputId": "5983304e-adb1-4e24-afdc-9c8596c446e8"
      },
      "source": [
        "# Find the actual file to download\n",
        "# From navigating the page, clicking \"Data Folder\"\n",
        "# Right click on the link to the dataset and say \"Copy Link Address\"\n",
        "\n",
        "flag_data_url = 'https://archive.ics.uci.edu/ml/machine-learning-databases/flags/flag.data'\n",
        "\n",
        "# You can \"shell out\" in a notebook for more powerful tools\n",
        "# https://jakevdp.github.io/PythonDataScienceHandbook/01.05-ipython-and-shell-commands.html\n",
        "\n",
        "# Funny extension, but on inspection looks like a csv\n",
        "!curl https://archive.ics.uci.edu/ml/machine-learning-databases/flags/flag.data\n",
        "\n",
        "# Extensions are just a norm! You have to inspect to be sure what something is"
      ],
      "execution_count": 2,
      "outputs": [
        {
          "output_type": "stream",
          "text": [
            "Afghanistan,5,1,648,16,10,2,0,3,5,1,1,0,1,1,1,0,green,0,0,0,0,1,0,0,1,0,0,black,green\n",
            "Albania,3,1,29,3,6,6,0,0,3,1,0,0,1,0,1,0,red,0,0,0,0,1,0,0,0,1,0,red,red\n",
            "Algeria,4,1,2388,20,8,2,2,0,3,1,1,0,0,1,0,0,green,0,0,0,0,1,1,0,0,0,0,green,white\n",
            "American-Samoa,6,3,0,0,1,1,0,0,5,1,0,1,1,1,0,1,blue,0,0,0,0,0,0,1,1,1,0,blue,red\n",
            "Andorra,3,1,0,0,6,0,3,0,3,1,0,1,1,0,0,0,gold,0,0,0,0,0,0,0,0,0,0,blue,red\n",
            "Angola,4,2,1247,7,10,5,0,2,3,1,0,0,1,0,1,0,red,0,0,0,0,1,0,0,1,0,0,red,black\n",
            "Anguilla,1,4,0,0,1,1,0,1,3,0,0,1,0,1,0,1,white,0,0,0,0,0,0,0,0,1,0,white,blue\n",
            "Antigua-Barbuda,1,4,0,0,1,1,0,1,5,1,0,1,1,1,1,0,red,0,0,0,0,1,0,1,0,0,0,black,red\n",
            "Argentina,2,3,2777,28,2,0,0,3,2,0,0,1,0,1,0,0,blue,0,0,0,0,0,0,0,0,0,0,blue,blue\n",
            "Argentine,2,3,2777,28,2,0,0,3,3,0,0,1,1,1,0,0,blue,0,0,0,0,1,0,0,0,0,0,blue,blue\n",
            "Australia,6,2,7690,15,1,1,0,0,3,1,0,1,0,1,0,0,blue,0,1,1,1,6,0,0,0,0,0,white,blue\n",
            "Austria,3,1,84,8,4,0,0,3,2,1,0,0,0,1,0,0,red,0,0,0,0,0,0,0,0,0,0,red,red\n",
            "Bahamas,1,4,19,0,1,1,0,3,3,0,0,1,1,0,1,0,blue,0,0,0,0,0,0,1,0,0,0,blue,blue\n",
            "Bahrain,5,1,1,0,8,2,0,0,2,1,0,0,0,1,0,0,red,0,0,0,0,0,0,0,0,0,0,white,red\n",
            "Bangladesh,5,1,143,90,6,2,0,0,2,1,1,0,0,0,0,0,green,1,0,0,0,0,0,0,0,0,0,green,green\n",
            "Barbados,1,4,0,0,1,1,3,0,3,0,0,1,1,0,1,0,blue,0,0,0,0,0,0,0,1,0,0,blue,blue\n",
            "Belgium,3,1,31,10,6,0,3,0,3,1,0,0,1,0,1,0,gold,0,0,0,0,0,0,0,0,0,0,black,red\n",
            "Belize,1,4,23,0,1,1,0,2,8,1,1,1,1,1,1,1,blue,1,0,0,0,0,0,0,1,1,1,red,red\n",
            "Benin,4,1,113,3,3,5,0,0,2,1,1,0,0,0,0,0,green,0,0,0,0,1,0,0,0,0,0,green,green\n",
            "Bermuda,1,4,0,0,1,1,0,0,6,1,1,1,1,1,1,0,red,1,1,1,1,0,0,0,1,1,0,white,red\n",
            "Bhutan,5,1,47,1,10,3,0,0,4,1,0,0,0,1,1,1,orange,4,0,0,0,0,0,0,0,1,0,orange,red\n",
            "Bolivia,2,3,1099,6,2,0,0,3,3,1,1,0,1,0,0,0,red,0,0,0,0,0,0,0,0,0,0,red,green\n",
            "Botswana,4,2,600,1,10,5,0,5,3,0,0,1,0,1,1,0,blue,0,0,0,0,0,0,0,0,0,0,blue,blue\n",
            "Brazil,2,3,8512,119,6,0,0,0,4,0,1,1,1,1,0,0,green,1,0,0,0,22,0,0,0,0,1,green,green\n",
            "British-Virgin-Isles,1,4,0,0,1,1,0,0,6,1,1,1,1,1,0,1,blue,0,1,1,1,0,0,0,1,1,1,white,blue\n",
            "Brunei,5,1,6,0,10,2,0,0,4,1,0,0,1,1,1,0,gold,0,0,0,0,0,0,1,1,1,1,white,gold\n",
            "Bulgaria,3,1,111,9,5,6,0,3,5,1,1,1,1,1,0,0,red,0,0,0,0,1,0,0,1,1,0,white,red\n",
            "Burkina,4,4,274,7,3,5,0,2,3,1,1,0,1,0,0,0,red,0,0,0,0,1,0,0,0,0,0,red,green\n",
            "Burma,5,1,678,35,10,3,0,0,3,1,0,1,0,1,0,0,red,0,0,0,1,14,0,0,1,1,0,blue,red\n",
            "Burundi,4,2,28,4,10,5,0,0,3,1,1,0,0,1,0,0,red,1,0,1,0,3,0,0,0,0,0,white,white\n",
            "Cameroon,4,1,474,8,3,1,3,0,3,1,1,0,1,0,0,0,gold,0,0,0,0,1,0,0,0,0,0,green,gold\n",
            "Canada,1,4,9976,24,1,1,2,0,2,1,0,0,0,1,0,0,red,0,0,0,0,0,0,0,0,1,0,red,red\n",
            "Cape-Verde-Islands,4,4,4,0,6,0,1,2,5,1,1,0,1,0,1,1,gold,0,0,0,0,1,0,0,0,1,0,red,green\n",
            "Cayman-Islands,1,4,0,0,1,1,0,0,6,1,1,1,1,1,0,1,blue,1,1,1,1,4,0,0,1,1,1,white,blue\n",
            "Central-African-Republic,4,1,623,2,10,5,1,0,5,1,1,1,1,1,0,0,gold,0,0,0,0,1,0,0,0,0,0,blue,gold\n",
            "Chad,4,1,1284,4,3,5,3,0,3,1,0,1,1,0,0,0,gold,0,0,0,0,0,0,0,0,0,0,blue,red\n",
            "Chile,2,3,757,11,2,0,0,2,3,1,0,1,0,1,0,0,red,0,0,0,1,1,0,0,0,0,0,blue,red\n",
            "China,5,1,9561,1008,7,6,0,0,2,1,0,0,1,0,0,0,red,0,0,0,0,5,0,0,0,0,0,red,red\n",
            "Colombia,2,4,1139,28,2,0,0,3,3,1,0,1,1,0,0,0,gold,0,0,0,0,0,0,0,0,0,0,gold,red\n",
            "Comorro-Islands,4,2,2,0,3,2,0,0,2,0,1,0,0,1,0,0,green,0,0,0,0,4,1,0,0,0,0,green,green\n",
            "Congo,4,2,342,2,10,5,0,0,3,1,1,0,1,0,0,0,red,0,0,0,0,1,0,0,1,1,0,red,red\n",
            "Cook-Islands,6,3,0,0,1,1,0,0,4,1,0,1,0,1,0,0,blue,1,1,1,1,15,0,0,0,0,0,white,blue\n",
            "Costa-Rica,1,4,51,2,2,0,0,5,3,1,0,1,0,1,0,0,blue,0,0,0,0,0,0,0,0,0,0,blue,blue\n",
            "Cuba,1,4,115,10,2,6,0,5,3,1,0,1,0,1,0,0,blue,0,0,0,0,1,0,1,0,0,0,blue,blue\n",
            "Cyprus,3,1,9,1,6,1,0,0,3,0,1,0,1,1,0,0,white,0,0,0,0,0,0,0,1,1,0,white,white\n",
            "Czechoslovakia,3,1,128,15,5,6,0,0,3,1,0,1,0,1,0,0,white,0,0,0,0,0,0,1,0,0,0,white,red\n",
            "Denmark,3,1,43,5,6,1,0,0,2,1,0,0,0,1,0,0,red,0,1,0,0,0,0,0,0,0,0,red,red\n",
            "Djibouti,4,1,22,0,3,2,0,0,4,1,1,1,0,1,0,0,blue,0,0,0,0,1,0,1,0,0,0,white,green\n",
            "Dominica,1,4,0,0,1,1,0,0,6,1,1,1,1,1,1,0,green,1,0,0,0,10,0,0,0,1,0,green,green\n",
            "Dominican-Republic,1,4,49,6,2,0,0,0,3,1,0,1,0,1,0,0,blue,0,1,0,0,0,0,0,0,0,0,blue,blue\n",
            "Ecuador,2,3,284,8,2,0,0,3,3,1,0,1,1,0,0,0,gold,0,0,0,0,0,0,0,0,0,0,gold,red\n",
            "Egypt,4,1,1001,47,8,2,0,3,4,1,0,0,1,1,1,0,black,0,0,0,0,0,0,0,0,1,1,red,black\n",
            "El-Salvador,1,4,21,5,2,0,0,3,2,0,0,1,0,1,0,0,blue,0,0,0,0,0,0,0,0,0,0,blue,blue\n",
            "Equatorial-Guinea,4,1,28,0,10,5,0,3,4,1,1,1,0,1,0,0,green,0,0,0,0,0,0,1,0,0,0,green,red\n",
            "Ethiopia,4,1,1222,31,10,1,0,3,3,1,1,0,1,0,0,0,green,0,0,0,0,0,0,0,0,0,0,green,red\n",
            "Faeroes,3,4,1,0,6,1,0,0,3,1,0,1,0,1,0,0,white,0,1,0,0,0,0,0,0,0,0,white,white\n",
            "Falklands-Malvinas,2,3,12,0,1,1,0,0,6,1,1,1,1,1,0,0,blue,1,1,1,1,0,0,0,1,1,1,white,blue\n",
            "Fiji,6,2,18,1,1,1,0,0,7,1,1,1,1,1,0,1,blue,0,2,1,1,0,0,0,1,1,0,white,blue\n",
            "Finland,3,1,337,5,9,1,0,0,2,0,0,1,0,1,0,0,white,0,1,0,0,0,0,0,0,0,0,white,white\n",
            "France,3,1,547,54,3,0,3,0,3,1,0,1,0,1,0,0,white,0,0,0,0,0,0,0,0,0,0,blue,red\n",
            "French-Guiana,2,4,91,0,3,0,3,0,3,1,0,1,0,1,0,0,white,0,0,0,0,0,0,0,0,0,0,blue,red\n",
            "French-Polynesia,6,3,4,0,3,0,0,3,5,1,0,1,1,1,1,0,red,1,0,0,0,1,0,0,1,0,0,red,red\n",
            "Gabon,4,2,268,1,10,5,0,3,3,0,1,1,1,0,0,0,green,0,0,0,0,0,0,0,0,0,0,green,blue\n",
            "Gambia,4,4,10,1,1,5,0,5,4,1,1,1,0,1,0,0,red,0,0,0,0,0,0,0,0,0,0,red,green\n",
            "Germany-DDR,3,1,108,17,4,6,0,3,3,1,0,0,1,0,1,0,gold,0,0,0,0,0,0,0,1,0,0,black,gold\n",
            "Germany-FRG,3,1,249,61,4,1,0,3,3,1,0,0,1,0,1,0,black,0,0,0,0,0,0,0,0,0,0,black,gold\n",
            "Ghana,4,4,239,14,1,5,0,3,4,1,1,0,1,0,1,0,red,0,0,0,0,1,0,0,0,0,0,red,green\n",
            "Gibraltar,3,4,0,0,1,1,0,1,3,1,0,0,1,1,0,0,white,0,0,0,0,0,0,0,1,0,0,white,red\n",
            "Greece,3,1,132,10,6,1,0,9,2,0,0,1,0,1,0,0,blue,0,1,0,1,0,0,0,0,0,0,blue,blue\n",
            "Greenland,1,4,2176,0,6,1,0,0,2,1,0,0,0,1,0,0,white,1,0,0,0,0,0,0,0,0,0,white,red\n",
            "Grenada,1,4,0,0,1,1,0,0,3,1,1,0,1,0,0,0,gold,1,0,0,0,7,0,1,0,1,0,red,red\n",
            "Guam,6,1,0,0,1,1,0,0,7,1,1,1,1,1,0,1,blue,0,0,0,0,0,0,0,1,1,1,red,red\n",
            "Guatemala,1,4,109,8,2,0,3,0,2,0,0,1,0,1,0,0,blue,0,0,0,0,0,0,0,0,0,0,blue,blue\n",
            "Guinea,4,4,246,6,3,2,3,0,3,1,1,0,1,0,0,0,gold,0,0,0,0,0,0,0,0,0,0,red,green\n",
            "Guinea-Bissau,4,4,36,1,6,5,1,2,4,1,1,0,1,0,1,0,gold,0,0,0,0,1,0,0,0,0,0,red,green\n",
            "Guyana,2,4,215,1,1,4,0,0,5,1,1,0,1,1,1,0,green,0,0,0,0,0,0,1,0,0,0,black,green\n",
            "Haiti,1,4,28,6,3,0,2,0,2,1,0,0,0,0,1,0,black,0,0,0,0,0,0,0,0,0,0,black,red\n",
            "Honduras,1,4,112,4,2,0,0,3,2,0,0,1,0,1,0,0,blue,0,0,0,0,5,0,0,0,0,0,blue,blue\n",
            "Hong-Kong,5,1,1,5,7,3,0,0,6,1,1,1,1,1,0,1,blue,1,1,1,1,0,0,0,1,1,1,white,blue\n",
            "Hungary,3,1,93,11,9,6,0,3,3,1,1,0,0,1,0,0,red,0,0,0,0,0,0,0,0,0,0,red,green\n",
            "Iceland,3,4,103,0,6,1,0,0,3,1,0,1,0,1,0,0,blue,0,1,0,0,0,0,0,0,0,0,blue,blue\n",
            "India,5,1,3268,684,6,4,0,3,4,0,1,1,0,1,0,1,orange,1,0,0,0,0,0,0,1,0,0,orange,green\n",
            "Indonesia,6,2,1904,157,10,2,0,2,2,1,0,0,0,1,0,0,red,0,0,0,0,0,0,0,0,0,0,red,white\n",
            "Iran,5,1,1648,39,6,2,0,3,3,1,1,0,0,1,0,0,red,0,0,0,0,0,0,0,1,0,1,green,red\n",
            "Iraq,5,1,435,14,8,2,0,3,4,1,1,0,0,1,1,0,red,0,0,0,0,3,0,0,0,0,0,red,black\n",
            "Ireland,3,4,70,3,1,0,3,0,3,0,1,0,0,1,0,1,white,0,0,0,0,0,0,0,0,0,0,green,orange\n",
            "Israel,5,1,21,4,10,7,0,2,2,0,0,1,0,1,0,0,white,0,0,0,0,1,0,0,0,0,0,blue,blue\n",
            "Italy,3,1,301,57,6,0,3,0,3,1,1,0,0,1,0,0,white,0,0,0,0,0,0,0,0,0,0,green,red\n",
            "Ivory-Coast,4,4,323,7,3,5,3,0,3,1,1,0,0,1,0,0,white,0,0,0,0,0,0,0,0,0,0,red,green\n",
            "Jamaica,1,4,11,2,1,1,0,0,3,0,1,0,1,0,1,0,green,0,0,1,0,0,0,1,0,0,0,gold,gold\n",
            "Japan,5,1,372,118,9,7,0,0,2,1,0,0,0,1,0,0,white,1,0,0,0,1,0,0,0,0,0,white,white\n",
            "Jordan,5,1,98,2,8,2,0,3,4,1,1,0,0,1,1,0,black,0,0,0,0,1,0,1,0,0,0,black,green\n",
            "Kampuchea,5,1,181,6,10,3,0,0,2,1,0,0,1,0,0,0,red,0,0,0,0,0,0,0,1,0,0,red,red\n",
            "Kenya,4,1,583,17,10,5,0,5,4,1,1,0,0,1,1,0,red,1,0,0,0,0,0,0,1,0,0,black,green\n",
            "Kiribati,6,1,0,0,1,1,0,0,4,1,0,1,1,1,0,0,red,0,0,0,0,1,0,0,1,1,0,red,blue\n",
            "Kuwait,5,1,18,2,8,2,0,3,4,1,1,0,0,1,1,0,green,0,0,0,0,0,0,0,0,0,0,green,red\n",
            "Laos,5,1,236,3,10,6,0,3,3,1,0,1,0,1,0,0,red,1,0,0,0,0,0,0,0,0,0,red,red\n",
            "Lebanon,5,1,10,3,8,2,0,2,4,1,1,0,0,1,0,1,red,0,0,0,0,0,0,0,0,1,0,red,red\n",
            "Lesotho,4,2,30,1,10,5,2,0,4,1,1,1,0,1,0,0,blue,0,0,0,0,0,0,0,1,0,0,green,blue\n",
            "Liberia,4,4,111,1,10,5,0,11,3,1,0,1,0,1,0,0,red,0,0,0,1,1,0,0,0,0,0,blue,red\n",
            "Libya,4,1,1760,3,8,2,0,0,1,0,1,0,0,0,0,0,green,0,0,0,0,0,0,0,0,0,0,green,green\n",
            "Liechtenstein,3,1,0,0,4,0,0,2,3,1,0,1,1,0,0,0,red,0,0,0,0,0,0,0,1,0,0,blue,red\n",
            "Luxembourg,3,1,3,0,4,0,0,3,3,1,0,1,0,1,0,0,red,0,0,0,0,0,0,0,0,0,0,red,blue\n",
            "Malagasy,4,2,587,9,10,1,1,2,3,1,1,0,0,1,0,0,red,0,0,0,0,0,0,0,0,0,0,white,green\n",
            "Malawi,4,2,118,6,10,5,0,3,3,1,1,0,0,0,1,0,red,0,0,0,0,1,0,0,0,0,0,black,green\n",
            "Malaysia,5,1,333,13,10,2,0,14,4,1,0,1,1,1,0,0,red,0,0,0,1,1,1,0,0,0,0,blue,white\n",
            "Maldive-Islands,5,1,0,0,10,2,0,0,3,1,1,0,0,1,0,0,red,0,0,0,0,0,1,0,0,0,0,red,red\n",
            "Mali,4,4,1240,7,3,2,3,0,3,1,1,0,1,0,0,0,gold,0,0,0,0,0,0,0,0,0,0,green,red\n",
            "Malta,3,1,0,0,10,0,2,0,3,1,0,0,0,1,1,0,red,0,1,0,0,0,0,0,1,0,0,white,red\n",
            "Marianas,6,1,0,0,10,1,0,0,3,0,0,1,0,1,0,0,blue,0,0,0,0,1,0,0,1,0,0,blue,blue\n",
            "Mauritania,4,4,1031,2,8,2,0,0,2,0,1,0,1,0,0,0,green,0,0,0,0,1,1,0,0,0,0,green,green\n",
            "Mauritius,4,2,2,1,1,4,0,4,4,1,1,1,1,0,0,0,red,0,0,0,0,0,0,0,0,0,0,red,green\n",
            "Mexico,1,4,1973,77,2,0,3,0,4,1,1,0,0,1,0,1,green,0,0,0,0,0,0,0,0,1,0,green,red\n",
            "Micronesia,6,1,1,0,10,1,0,0,2,0,0,1,0,1,0,0,blue,0,0,0,0,4,0,0,0,0,0,blue,blue\n",
            "Monaco,3,1,0,0,3,0,0,2,2,1,0,0,0,1,0,0,red,0,0,0,0,0,0,0,0,0,0,red,white\n",
            "Mongolia,5,1,1566,2,10,6,3,0,3,1,0,1,1,0,0,0,red,2,0,0,0,1,1,1,1,0,0,red,red\n",
            "Montserrat,1,4,0,0,1,1,0,0,7,1,1,1,1,1,1,0,blue,0,2,1,1,0,0,0,1,1,0,white,blue\n",
            "Morocco,4,4,447,20,8,2,0,0,2,1,1,0,0,0,0,0,red,0,0,0,0,1,0,0,0,0,0,red,red\n",
            "Mozambique,4,2,783,12,10,5,0,5,5,1,1,0,1,1,1,0,gold,0,0,0,0,1,0,1,1,0,0,green,gold\n",
            "Nauru,6,2,0,0,10,1,0,3,3,0,0,1,1,1,0,0,blue,0,0,0,0,1,0,0,0,0,0,blue,blue\n",
            "Nepal,5,1,140,16,10,4,0,0,3,0,0,1,0,1,0,1,brown,0,0,0,0,2,1,0,0,0,0,blue,blue\n",
            "Netherlands,3,1,41,14,6,1,0,3,3,1,0,1,0,1,0,0,red,0,0,0,0,0,0,0,0,0,0,red,blue\n",
            "Netherlands-Antilles,1,4,0,0,6,1,0,1,3,1,0,1,0,1,0,0,white,0,0,0,0,6,0,0,0,0,0,white,white\n",
            "New-Zealand,6,2,268,2,1,1,0,0,3,1,0,1,0,1,0,0,blue,0,1,1,1,4,0,0,0,0,0,white,blue\n",
            "Nicaragua,1,4,128,3,2,0,0,3,2,0,0,1,0,1,0,0,blue,0,0,0,0,0,0,0,0,0,0,blue,blue\n",
            "Niger,4,1,1267,5,3,2,0,3,3,0,1,0,0,1,0,1,orange,1,0,0,0,0,0,0,0,0,0,orange,green\n",
            "Nigeria,4,1,925,56,10,2,3,0,2,0,1,0,0,1,0,0,green,0,0,0,0,0,0,0,0,0,0,green,green\n",
            "Niue,6,3,0,0,1,1,0,0,4,1,0,1,1,1,0,0,gold,1,1,1,1,5,0,0,0,0,0,white,gold\n",
            "North-Korea,5,1,121,18,10,6,0,5,3,1,0,1,0,1,0,0,blue,1,0,0,0,1,0,0,0,0,0,blue,blue\n",
            "North-Yemen,5,1,195,9,8,2,0,3,4,1,1,0,0,1,1,0,red,0,0,0,0,1,0,0,0,0,0,red,black\n",
            "Norway,3,1,324,4,6,1,0,0,3,1,0,1,0,1,0,0,red,0,1,0,0,0,0,0,0,0,0,red,red\n",
            "Oman,5,1,212,1,8,2,0,2,3,1,1,0,0,1,0,0,red,0,0,0,0,0,0,0,1,0,0,red,green\n",
            "Pakistan,5,1,804,84,6,2,1,0,2,0,1,0,0,1,0,0,green,0,0,0,0,1,1,0,0,0,0,white,green\n",
            "Panama,2,4,76,2,2,0,0,0,3,1,0,1,0,1,0,0,red,0,0,0,4,2,0,0,0,0,0,white,white\n",
            "Papua-New-Guinea,6,2,463,3,1,5,0,0,4,1,0,0,1,1,1,0,black,0,0,0,0,5,0,1,0,1,0,red,black\n",
            "Parguay,2,3,407,3,2,0,0,3,6,1,1,1,1,1,1,0,red,1,0,0,0,1,0,0,1,1,1,red,blue\n",
            "Peru,2,3,1285,14,2,0,3,0,2,1,0,0,0,1,0,0,red,0,0,0,0,0,0,0,0,0,0,red,red\n",
            "Philippines,6,1,300,48,10,0,0,0,4,1,0,1,1,1,0,0,blue,0,0,0,0,4,0,1,0,0,0,blue,red\n",
            "Poland,3,1,313,36,5,6,0,2,2,1,0,0,0,1,0,0,white,0,0,0,0,0,0,0,0,0,0,white,red\n",
            "Portugal,3,4,92,10,6,0,0,0,5,1,1,1,1,1,0,0,red,1,0,0,0,0,0,0,1,0,0,green,red\n",
            "Puerto-Rico,1,4,9,3,2,0,0,5,3,1,0,1,0,1,0,0,red,0,0,0,0,1,0,1,0,0,0,red,red\n",
            "Qatar,5,1,11,0,8,2,0,0,2,0,0,0,0,1,0,1,brown,0,0,0,0,0,0,0,0,0,0,white,brown\n",
            "Romania,3,1,237,22,6,6,3,0,7,1,1,1,1,1,0,1,red,0,0,0,0,2,0,0,1,1,1,blue,red\n",
            "Rwanda,4,2,26,5,10,5,3,0,4,1,1,0,1,0,1,0,red,0,0,0,0,0,0,0,0,0,1,red,green\n",
            "San-Marino,3,1,0,0,6,0,0,2,2,0,0,1,0,1,0,0,white,0,0,0,0,0,0,0,0,0,0,white,blue\n",
            "Sao-Tome,4,1,0,0,6,0,0,3,4,1,1,0,1,0,1,0,green,0,0,0,0,2,0,1,0,0,0,green,green\n",
            "Saudi-Arabia,5,1,2150,9,8,2,0,0,2,0,1,0,0,1,0,0,green,0,0,0,0,0,0,0,1,0,1,green,green\n",
            "Senegal,4,4,196,6,3,2,3,0,3,1,1,0,1,0,0,0,green,0,0,0,0,1,0,0,0,0,0,green,red\n",
            "Seychelles,4,2,0,0,1,1,0,0,3,1,1,0,0,1,0,0,red,0,0,0,0,0,0,0,0,0,0,red,green\n",
            "Sierra-Leone,4,4,72,3,1,5,0,3,3,0,1,1,0,1,0,0,green,0,0,0,0,0,0,0,0,0,0,green,blue\n",
            "Singapore,5,1,1,3,7,3,0,2,2,1,0,0,0,1,0,0,white,0,0,0,0,5,1,0,0,0,0,red,white\n",
            "Soloman-Islands,6,2,30,0,1,1,0,0,4,0,1,1,1,1,0,0,green,0,0,0,0,5,0,1,0,0,0,blue,green\n",
            "Somalia,4,1,637,5,10,2,0,0,2,0,0,1,0,1,0,0,blue,0,0,0,0,1,0,0,0,0,0,blue,blue\n",
            "South-Africa,4,2,1221,29,6,1,0,3,5,1,1,1,0,1,0,1,orange,0,1,1,0,0,0,0,0,0,0,orange,blue\n",
            "South-Korea,5,1,99,39,10,7,0,0,4,1,0,1,0,1,1,0,white,1,0,0,0,0,0,0,1,0,0,white,white\n",
            "South-Yemen,5,1,288,2,8,2,0,3,4,1,0,1,0,1,1,0,red,0,0,0,0,1,0,1,0,0,0,red,black\n",
            "Spain,3,4,505,38,2,0,0,3,2,1,0,0,1,0,0,0,red,0,0,0,0,0,0,0,0,0,0,red,red\n",
            "Sri-Lanka,5,1,66,15,10,3,2,0,4,0,1,0,1,0,0,1,gold,0,0,0,0,0,0,0,1,1,0,gold,gold\n",
            "St-Helena,4,3,0,0,1,1,0,0,7,1,1,1,1,1,0,1,blue,0,1,1,1,0,0,0,1,0,0,white,blue\n",
            "St-Kitts-Nevis,1,4,0,0,1,1,0,0,5,1,1,0,1,1,1,0,green,0,0,0,0,2,0,1,0,0,0,green,red\n",
            "St-Lucia,1,4,0,0,1,1,0,0,4,0,0,1,1,1,1,0,blue,0,0,0,0,0,0,1,0,0,0,blue,blue\n",
            "St-Vincent,1,4,0,0,1,1,5,0,4,0,1,1,1,1,0,0,green,0,0,0,0,0,0,0,1,1,1,blue,green\n",
            "Sudan,4,1,2506,20,8,2,0,3,4,1,1,0,0,1,1,0,red,0,0,0,0,0,0,1,0,0,0,red,black\n",
            "Surinam,2,4,63,0,6,1,0,5,4,1,1,0,1,1,0,0,red,0,0,0,0,1,0,0,0,0,0,green,green\n",
            "Swaziland,4,2,17,1,10,1,0,5,7,1,0,1,1,1,1,1,blue,0,0,0,0,0,0,0,1,0,0,blue,blue\n",
            "Sweden,3,1,450,8,6,1,0,0,2,0,0,1,1,0,0,0,blue,0,1,0,0,0,0,0,0,0,0,blue,blue\n",
            "Switzerland,3,1,41,6,4,1,0,0,2,1,0,0,0,1,0,0,red,0,1,0,0,0,0,0,0,0,0,red,red\n",
            "Syria,5,1,185,10,8,2,0,3,4,1,1,0,0,1,1,0,red,0,0,0,0,2,0,0,0,0,0,red,black\n",
            "Taiwan,5,1,36,18,7,3,0,0,3,1,0,1,0,1,0,0,red,1,0,0,1,1,0,0,0,0,0,blue,red\n",
            "Tanzania,4,2,945,18,10,5,0,0,4,0,1,1,1,0,1,0,green,0,0,0,0,0,0,1,0,0,0,green,blue\n",
            "Thailand,5,1,514,49,10,3,0,5,3,1,0,1,0,1,0,0,red,0,0,0,0,0,0,0,0,0,0,red,red\n",
            "Togo,4,1,57,2,3,7,0,5,4,1,1,0,1,1,0,0,green,0,0,0,1,1,0,0,0,0,0,red,green\n",
            "Tonga,6,2,1,0,10,1,0,0,2,1,0,0,0,1,0,0,red,0,1,0,1,0,0,0,0,0,0,white,red\n",
            "Trinidad-Tobago,2,4,5,1,1,1,0,0,3,1,0,0,0,1,1,0,red,0,0,0,0,0,0,1,0,0,0,white,white\n",
            "Tunisia,4,1,164,7,8,2,0,0,2,1,0,0,0,1,0,0,red,1,0,0,0,1,1,0,0,0,0,red,red\n",
            "Turkey,5,1,781,45,9,2,0,0,2,1,0,0,0,1,0,0,red,0,0,0,0,1,1,0,0,0,0,red,red\n",
            "Turks-Cocos-Islands,1,4,0,0,1,1,0,0,6,1,1,1,1,1,0,1,blue,0,1,1,1,0,0,0,1,1,0,white,blue\n",
            "Tuvalu,6,2,0,0,1,1,0,0,5,1,0,1,1,1,0,0,blue,0,1,1,1,9,0,0,0,0,0,white,blue\n",
            "UAE,5,1,84,1,8,2,1,3,4,1,1,0,0,1,1,0,green,0,0,0,0,0,0,0,0,0,0,red,black\n",
            "Uganda,4,1,236,13,10,5,0,6,5,1,0,0,1,1,1,0,gold,1,0,0,0,0,0,0,0,1,0,black,red\n",
            "UK,3,4,245,56,1,1,0,0,3,1,0,1,0,1,0,0,red,0,1,1,0,0,0,0,0,0,0,white,red\n",
            "Uruguay,2,3,178,3,2,0,0,9,3,0,0,1,1,1,0,0,white,0,0,0,1,1,0,0,0,0,0,white,white\n",
            "US-Virgin-Isles,1,4,0,0,1,1,0,0,6,1,1,1,1,1,0,0,white,0,0,0,0,0,0,0,1,1,1,white,white\n",
            "USA,1,4,9363,231,1,1,0,13,3,1,0,1,0,1,0,0,white,0,0,0,1,50,0,0,0,0,0,blue,red\n",
            "USSR,5,1,22402,274,5,6,0,0,2,1,0,0,1,0,0,0,red,0,0,0,0,1,0,0,1,0,0,red,red\n",
            "Vanuatu,6,2,15,0,6,1,0,0,4,1,1,0,1,0,1,0,red,0,0,0,0,0,0,1,0,1,0,black,green\n",
            "Vatican-City,3,1,0,0,6,0,2,0,4,1,0,0,1,1,1,0,gold,0,0,0,0,0,0,0,1,0,0,gold,white\n",
            "Venezuela,2,4,912,15,2,0,0,3,7,1,1,1,1,1,1,1,red,0,0,0,0,7,0,0,1,1,0,gold,red\n",
            "Vietnam,5,1,333,60,10,6,0,0,2,1,0,0,1,0,0,0,red,0,0,0,0,1,0,0,0,0,0,red,red\n",
            "Western-Samoa,6,3,3,0,1,1,0,0,3,1,0,1,0,1,0,0,red,0,0,0,1,5,0,0,0,0,0,blue,red\n",
            "Yugoslavia,3,1,256,22,6,6,0,3,4,1,0,1,1,1,0,0,red,0,0,0,0,1,0,0,0,0,0,blue,red\n",
            "Zaire,4,2,905,28,10,5,0,0,4,1,1,0,1,0,0,1,green,1,0,0,0,0,0,0,1,1,0,green,green\n",
            "Zambia,4,2,753,6,10,5,3,0,4,1,1,0,0,0,1,1,green,0,0,0,0,0,0,0,0,1,0,green,brown\n",
            "Zimbabwe,4,2,391,8,10,5,0,7,5,1,1,0,1,1,1,0,green,0,0,0,0,1,0,1,1,1,0,green,green\n"
          ],
          "name": "stdout"
        }
      ]
    },
    {
      "cell_type": "markdown",
      "metadata": {
        "id": "KncohxMIg5Dq",
        "colab_type": "text"
      },
      "source": [
        "### Attempt to load it via its URL"
      ]
    },
    {
      "cell_type": "code",
      "metadata": {
        "id": "-r24OTvggWub",
        "colab_type": "code",
        "colab": {
          "base_uri": "https://localhost:8080/",
          "height": 244
        },
        "outputId": "a52b5cd6-4827-4999-a658-e80b0f991724"
      },
      "source": [
        "# Load the flags dataset from its URL:\n",
        "import pandas as pd\n",
        "\n",
        "df = pd.read_csv(flag_data_url)\n",
        "\n",
        "df.head()"
      ],
      "execution_count": 6,
      "outputs": [
        {
          "output_type": "execute_result",
          "data": {
            "text/html": [
              "<div>\n",
              "<style scoped>\n",
              "    .dataframe tbody tr th:only-of-type {\n",
              "        vertical-align: middle;\n",
              "    }\n",
              "\n",
              "    .dataframe tbody tr th {\n",
              "        vertical-align: top;\n",
              "    }\n",
              "\n",
              "    .dataframe thead th {\n",
              "        text-align: right;\n",
              "    }\n",
              "</style>\n",
              "<table border=\"1\" class=\"dataframe\">\n",
              "  <thead>\n",
              "    <tr style=\"text-align: right;\">\n",
              "      <th></th>\n",
              "      <th>Afghanistan</th>\n",
              "      <th>5</th>\n",
              "      <th>1</th>\n",
              "      <th>648</th>\n",
              "      <th>16</th>\n",
              "      <th>10</th>\n",
              "      <th>2</th>\n",
              "      <th>0</th>\n",
              "      <th>3</th>\n",
              "      <th>5.1</th>\n",
              "      <th>1.1</th>\n",
              "      <th>1.2</th>\n",
              "      <th>0.1</th>\n",
              "      <th>1.3</th>\n",
              "      <th>1.4</th>\n",
              "      <th>1.5</th>\n",
              "      <th>0.2</th>\n",
              "      <th>green</th>\n",
              "      <th>0.3</th>\n",
              "      <th>0.4</th>\n",
              "      <th>0.5</th>\n",
              "      <th>0.6</th>\n",
              "      <th>1.6</th>\n",
              "      <th>0.7</th>\n",
              "      <th>0.8</th>\n",
              "      <th>1.7</th>\n",
              "      <th>0.9</th>\n",
              "      <th>0.10</th>\n",
              "      <th>black</th>\n",
              "      <th>green.1</th>\n",
              "    </tr>\n",
              "  </thead>\n",
              "  <tbody>\n",
              "    <tr>\n",
              "      <th>0</th>\n",
              "      <td>Albania</td>\n",
              "      <td>3</td>\n",
              "      <td>1</td>\n",
              "      <td>29</td>\n",
              "      <td>3</td>\n",
              "      <td>6</td>\n",
              "      <td>6</td>\n",
              "      <td>0</td>\n",
              "      <td>0</td>\n",
              "      <td>3</td>\n",
              "      <td>1</td>\n",
              "      <td>0</td>\n",
              "      <td>0</td>\n",
              "      <td>1</td>\n",
              "      <td>0</td>\n",
              "      <td>1</td>\n",
              "      <td>0</td>\n",
              "      <td>red</td>\n",
              "      <td>0</td>\n",
              "      <td>0</td>\n",
              "      <td>0</td>\n",
              "      <td>0</td>\n",
              "      <td>1</td>\n",
              "      <td>0</td>\n",
              "      <td>0</td>\n",
              "      <td>0</td>\n",
              "      <td>1</td>\n",
              "      <td>0</td>\n",
              "      <td>red</td>\n",
              "      <td>red</td>\n",
              "    </tr>\n",
              "    <tr>\n",
              "      <th>1</th>\n",
              "      <td>Algeria</td>\n",
              "      <td>4</td>\n",
              "      <td>1</td>\n",
              "      <td>2388</td>\n",
              "      <td>20</td>\n",
              "      <td>8</td>\n",
              "      <td>2</td>\n",
              "      <td>2</td>\n",
              "      <td>0</td>\n",
              "      <td>3</td>\n",
              "      <td>1</td>\n",
              "      <td>1</td>\n",
              "      <td>0</td>\n",
              "      <td>0</td>\n",
              "      <td>1</td>\n",
              "      <td>0</td>\n",
              "      <td>0</td>\n",
              "      <td>green</td>\n",
              "      <td>0</td>\n",
              "      <td>0</td>\n",
              "      <td>0</td>\n",
              "      <td>0</td>\n",
              "      <td>1</td>\n",
              "      <td>1</td>\n",
              "      <td>0</td>\n",
              "      <td>0</td>\n",
              "      <td>0</td>\n",
              "      <td>0</td>\n",
              "      <td>green</td>\n",
              "      <td>white</td>\n",
              "    </tr>\n",
              "    <tr>\n",
              "      <th>2</th>\n",
              "      <td>American-Samoa</td>\n",
              "      <td>6</td>\n",
              "      <td>3</td>\n",
              "      <td>0</td>\n",
              "      <td>0</td>\n",
              "      <td>1</td>\n",
              "      <td>1</td>\n",
              "      <td>0</td>\n",
              "      <td>0</td>\n",
              "      <td>5</td>\n",
              "      <td>1</td>\n",
              "      <td>0</td>\n",
              "      <td>1</td>\n",
              "      <td>1</td>\n",
              "      <td>1</td>\n",
              "      <td>0</td>\n",
              "      <td>1</td>\n",
              "      <td>blue</td>\n",
              "      <td>0</td>\n",
              "      <td>0</td>\n",
              "      <td>0</td>\n",
              "      <td>0</td>\n",
              "      <td>0</td>\n",
              "      <td>0</td>\n",
              "      <td>1</td>\n",
              "      <td>1</td>\n",
              "      <td>1</td>\n",
              "      <td>0</td>\n",
              "      <td>blue</td>\n",
              "      <td>red</td>\n",
              "    </tr>\n",
              "    <tr>\n",
              "      <th>3</th>\n",
              "      <td>Andorra</td>\n",
              "      <td>3</td>\n",
              "      <td>1</td>\n",
              "      <td>0</td>\n",
              "      <td>0</td>\n",
              "      <td>6</td>\n",
              "      <td>0</td>\n",
              "      <td>3</td>\n",
              "      <td>0</td>\n",
              "      <td>3</td>\n",
              "      <td>1</td>\n",
              "      <td>0</td>\n",
              "      <td>1</td>\n",
              "      <td>1</td>\n",
              "      <td>0</td>\n",
              "      <td>0</td>\n",
              "      <td>0</td>\n",
              "      <td>gold</td>\n",
              "      <td>0</td>\n",
              "      <td>0</td>\n",
              "      <td>0</td>\n",
              "      <td>0</td>\n",
              "      <td>0</td>\n",
              "      <td>0</td>\n",
              "      <td>0</td>\n",
              "      <td>0</td>\n",
              "      <td>0</td>\n",
              "      <td>0</td>\n",
              "      <td>blue</td>\n",
              "      <td>red</td>\n",
              "    </tr>\n",
              "    <tr>\n",
              "      <th>4</th>\n",
              "      <td>Angola</td>\n",
              "      <td>4</td>\n",
              "      <td>2</td>\n",
              "      <td>1247</td>\n",
              "      <td>7</td>\n",
              "      <td>10</td>\n",
              "      <td>5</td>\n",
              "      <td>0</td>\n",
              "      <td>2</td>\n",
              "      <td>3</td>\n",
              "      <td>1</td>\n",
              "      <td>0</td>\n",
              "      <td>0</td>\n",
              "      <td>1</td>\n",
              "      <td>0</td>\n",
              "      <td>1</td>\n",
              "      <td>0</td>\n",
              "      <td>red</td>\n",
              "      <td>0</td>\n",
              "      <td>0</td>\n",
              "      <td>0</td>\n",
              "      <td>0</td>\n",
              "      <td>1</td>\n",
              "      <td>0</td>\n",
              "      <td>0</td>\n",
              "      <td>1</td>\n",
              "      <td>0</td>\n",
              "      <td>0</td>\n",
              "      <td>red</td>\n",
              "      <td>black</td>\n",
              "    </tr>\n",
              "  </tbody>\n",
              "</table>\n",
              "</div>"
            ],
            "text/plain": [
              "      Afghanistan  5  1   648  16  10  ...  0.8  1.7  0.9  0.10  black  green.1\n",
              "0         Albania  3  1    29   3   6  ...    0    0    1     0    red      red\n",
              "1         Algeria  4  1  2388  20   8  ...    0    0    0     0  green    white\n",
              "2  American-Samoa  6  3     0   0   1  ...    1    1    1     0   blue      red\n",
              "3         Andorra  3  1     0   0   6  ...    0    0    0     0   blue      red\n",
              "4          Angola  4  2  1247   7  10  ...    0    1    0     0    red    black\n",
              "\n",
              "[5 rows x 30 columns]"
            ]
          },
          "metadata": {
            "tags": []
          },
          "execution_count": 6
        }
      ]
    },
    {
      "cell_type": "markdown",
      "metadata": {
        "id": "1hI3GvRgg818",
        "colab_type": "text"
      },
      "source": [
        "### If things go wrong, investigate and try to figure out why.\n"
      ]
    },
    {
      "cell_type": "code",
      "metadata": {
        "id": "8PK-Njl0hJxz",
        "colab_type": "code",
        "colab": {
          "base_uri": "https://localhost:8080/",
          "height": 1000
        },
        "outputId": "d890798c-d42f-4590-b819-b1921821c676"
      },
      "source": [
        "# Different ways to look at the documentation:\n",
        "help(pd.read_csv)"
      ],
      "execution_count": 7,
      "outputs": [
        {
          "output_type": "stream",
          "text": [
            "Help on function read_csv in module pandas.io.parsers:\n",
            "\n",
            "read_csv(filepath_or_buffer:Union[str, pathlib.Path, IO[~AnyStr]], sep=',', delimiter=None, header='infer', names=None, index_col=None, usecols=None, squeeze=False, prefix=None, mangle_dupe_cols=True, dtype=None, engine=None, converters=None, true_values=None, false_values=None, skipinitialspace=False, skiprows=None, skipfooter=0, nrows=None, na_values=None, keep_default_na=True, na_filter=True, verbose=False, skip_blank_lines=True, parse_dates=False, infer_datetime_format=False, keep_date_col=False, date_parser=None, dayfirst=False, cache_dates=True, iterator=False, chunksize=None, compression='infer', thousands=None, decimal=b'.', lineterminator=None, quotechar='\"', quoting=0, doublequote=True, escapechar=None, comment=None, encoding=None, dialect=None, error_bad_lines=True, warn_bad_lines=True, delim_whitespace=False, low_memory=True, memory_map=False, float_precision=None)\n",
            "    Read a comma-separated values (csv) file into DataFrame.\n",
            "    \n",
            "    Also supports optionally iterating or breaking of the file\n",
            "    into chunks.\n",
            "    \n",
            "    Additional help can be found in the online docs for\n",
            "    `IO Tools <http://pandas.pydata.org/pandas-docs/stable/user_guide/io.html>`_.\n",
            "    \n",
            "    Parameters\n",
            "    ----------\n",
            "    filepath_or_buffer : str, path object or file-like object\n",
            "        Any valid string path is acceptable. The string could be a URL. Valid\n",
            "        URL schemes include http, ftp, s3, and file. For file URLs, a host is\n",
            "        expected. A local file could be: file://localhost/path/to/table.csv.\n",
            "    \n",
            "        If you want to pass in a path object, pandas accepts any ``os.PathLike``.\n",
            "    \n",
            "        By file-like object, we refer to objects with a ``read()`` method, such as\n",
            "        a file handler (e.g. via builtin ``open`` function) or ``StringIO``.\n",
            "    sep : str, default ','\n",
            "        Delimiter to use. If sep is None, the C engine cannot automatically detect\n",
            "        the separator, but the Python parsing engine can, meaning the latter will\n",
            "        be used and automatically detect the separator by Python's builtin sniffer\n",
            "        tool, ``csv.Sniffer``. In addition, separators longer than 1 character and\n",
            "        different from ``'\\s+'`` will be interpreted as regular expressions and\n",
            "        will also force the use of the Python parsing engine. Note that regex\n",
            "        delimiters are prone to ignoring quoted data. Regex example: ``'\\r\\t'``.\n",
            "    delimiter : str, default ``None``\n",
            "        Alias for sep.\n",
            "    header : int, list of int, default 'infer'\n",
            "        Row number(s) to use as the column names, and the start of the\n",
            "        data.  Default behavior is to infer the column names: if no names\n",
            "        are passed the behavior is identical to ``header=0`` and column\n",
            "        names are inferred from the first line of the file, if column\n",
            "        names are passed explicitly then the behavior is identical to\n",
            "        ``header=None``. Explicitly pass ``header=0`` to be able to\n",
            "        replace existing names. The header can be a list of integers that\n",
            "        specify row locations for a multi-index on the columns\n",
            "        e.g. [0,1,3]. Intervening rows that are not specified will be\n",
            "        skipped (e.g. 2 in this example is skipped). Note that this\n",
            "        parameter ignores commented lines and empty lines if\n",
            "        ``skip_blank_lines=True``, so ``header=0`` denotes the first line of\n",
            "        data rather than the first line of the file.\n",
            "    names : array-like, optional\n",
            "        List of column names to use. If file contains no header row, then you\n",
            "        should explicitly pass ``header=None``. Duplicates in this list are not\n",
            "        allowed.\n",
            "    index_col : int, str, sequence of int / str, or False, default ``None``\n",
            "      Column(s) to use as the row labels of the ``DataFrame``, either given as\n",
            "      string name or column index. If a sequence of int / str is given, a\n",
            "      MultiIndex is used.\n",
            "    \n",
            "      Note: ``index_col=False`` can be used to force pandas to *not* use the first\n",
            "      column as the index, e.g. when you have a malformed file with delimiters at\n",
            "      the end of each line.\n",
            "    usecols : list-like or callable, optional\n",
            "        Return a subset of the columns. If list-like, all elements must either\n",
            "        be positional (i.e. integer indices into the document columns) or strings\n",
            "        that correspond to column names provided either by the user in `names` or\n",
            "        inferred from the document header row(s). For example, a valid list-like\n",
            "        `usecols` parameter would be ``[0, 1, 2]`` or ``['foo', 'bar', 'baz']``.\n",
            "        Element order is ignored, so ``usecols=[0, 1]`` is the same as ``[1, 0]``.\n",
            "        To instantiate a DataFrame from ``data`` with element order preserved use\n",
            "        ``pd.read_csv(data, usecols=['foo', 'bar'])[['foo', 'bar']]`` for columns\n",
            "        in ``['foo', 'bar']`` order or\n",
            "        ``pd.read_csv(data, usecols=['foo', 'bar'])[['bar', 'foo']]``\n",
            "        for ``['bar', 'foo']`` order.\n",
            "    \n",
            "        If callable, the callable function will be evaluated against the column\n",
            "        names, returning names where the callable function evaluates to True. An\n",
            "        example of a valid callable argument would be ``lambda x: x.upper() in\n",
            "        ['AAA', 'BBB', 'DDD']``. Using this parameter results in much faster\n",
            "        parsing time and lower memory usage.\n",
            "    squeeze : bool, default False\n",
            "        If the parsed data only contains one column then return a Series.\n",
            "    prefix : str, optional\n",
            "        Prefix to add to column numbers when no header, e.g. 'X' for X0, X1, ...\n",
            "    mangle_dupe_cols : bool, default True\n",
            "        Duplicate columns will be specified as 'X', 'X.1', ...'X.N', rather than\n",
            "        'X'...'X'. Passing in False will cause data to be overwritten if there\n",
            "        are duplicate names in the columns.\n",
            "    dtype : Type name or dict of column -> type, optional\n",
            "        Data type for data or columns. E.g. {'a': np.float64, 'b': np.int32,\n",
            "        'c': 'Int64'}\n",
            "        Use `str` or `object` together with suitable `na_values` settings\n",
            "        to preserve and not interpret dtype.\n",
            "        If converters are specified, they will be applied INSTEAD\n",
            "        of dtype conversion.\n",
            "    engine : {'c', 'python'}, optional\n",
            "        Parser engine to use. The C engine is faster while the python engine is\n",
            "        currently more feature-complete.\n",
            "    converters : dict, optional\n",
            "        Dict of functions for converting values in certain columns. Keys can either\n",
            "        be integers or column labels.\n",
            "    true_values : list, optional\n",
            "        Values to consider as True.\n",
            "    false_values : list, optional\n",
            "        Values to consider as False.\n",
            "    skipinitialspace : bool, default False\n",
            "        Skip spaces after delimiter.\n",
            "    skiprows : list-like, int or callable, optional\n",
            "        Line numbers to skip (0-indexed) or number of lines to skip (int)\n",
            "        at the start of the file.\n",
            "    \n",
            "        If callable, the callable function will be evaluated against the row\n",
            "        indices, returning True if the row should be skipped and False otherwise.\n",
            "        An example of a valid callable argument would be ``lambda x: x in [0, 2]``.\n",
            "    skipfooter : int, default 0\n",
            "        Number of lines at bottom of file to skip (Unsupported with engine='c').\n",
            "    nrows : int, optional\n",
            "        Number of rows of file to read. Useful for reading pieces of large files.\n",
            "    na_values : scalar, str, list-like, or dict, optional\n",
            "        Additional strings to recognize as NA/NaN. If dict passed, specific\n",
            "        per-column NA values.  By default the following values are interpreted as\n",
            "        NaN: '', '#N/A', '#N/A N/A', '#NA', '-1.#IND', '-1.#QNAN', '-NaN', '-nan',\n",
            "        '1.#IND', '1.#QNAN', 'N/A', 'NA', 'NULL', 'NaN', 'n/a', 'nan',\n",
            "        'null'.\n",
            "    keep_default_na : bool, default True\n",
            "        Whether or not to include the default NaN values when parsing the data.\n",
            "        Depending on whether `na_values` is passed in, the behavior is as follows:\n",
            "    \n",
            "        * If `keep_default_na` is True, and `na_values` are specified, `na_values`\n",
            "          is appended to the default NaN values used for parsing.\n",
            "        * If `keep_default_na` is True, and `na_values` are not specified, only\n",
            "          the default NaN values are used for parsing.\n",
            "        * If `keep_default_na` is False, and `na_values` are specified, only\n",
            "          the NaN values specified `na_values` are used for parsing.\n",
            "        * If `keep_default_na` is False, and `na_values` are not specified, no\n",
            "          strings will be parsed as NaN.\n",
            "    \n",
            "        Note that if `na_filter` is passed in as False, the `keep_default_na` and\n",
            "        `na_values` parameters will be ignored.\n",
            "    na_filter : bool, default True\n",
            "        Detect missing value markers (empty strings and the value of na_values). In\n",
            "        data without any NAs, passing na_filter=False can improve the performance\n",
            "        of reading a large file.\n",
            "    verbose : bool, default False\n",
            "        Indicate number of NA values placed in non-numeric columns.\n",
            "    skip_blank_lines : bool, default True\n",
            "        If True, skip over blank lines rather than interpreting as NaN values.\n",
            "    parse_dates : bool or list of int or names or list of lists or dict, default False\n",
            "        The behavior is as follows:\n",
            "    \n",
            "        * boolean. If True -> try parsing the index.\n",
            "        * list of int or names. e.g. If [1, 2, 3] -> try parsing columns 1, 2, 3\n",
            "          each as a separate date column.\n",
            "        * list of lists. e.g.  If [[1, 3]] -> combine columns 1 and 3 and parse as\n",
            "          a single date column.\n",
            "        * dict, e.g. {'foo' : [1, 3]} -> parse columns 1, 3 as date and call\n",
            "          result 'foo'\n",
            "    \n",
            "        If a column or index cannot be represented as an array of datetimes,\n",
            "        say because of an unparseable value or a mixture of timezones, the column\n",
            "        or index will be returned unaltered as an object data type. For\n",
            "        non-standard datetime parsing, use ``pd.to_datetime`` after\n",
            "        ``pd.read_csv``. To parse an index or column with a mixture of timezones,\n",
            "        specify ``date_parser`` to be a partially-applied\n",
            "        :func:`pandas.to_datetime` with ``utc=True``. See\n",
            "        :ref:`io.csv.mixed_timezones` for more.\n",
            "    \n",
            "        Note: A fast-path exists for iso8601-formatted dates.\n",
            "    infer_datetime_format : bool, default False\n",
            "        If True and `parse_dates` is enabled, pandas will attempt to infer the\n",
            "        format of the datetime strings in the columns, and if it can be inferred,\n",
            "        switch to a faster method of parsing them. In some cases this can increase\n",
            "        the parsing speed by 5-10x.\n",
            "    keep_date_col : bool, default False\n",
            "        If True and `parse_dates` specifies combining multiple columns then\n",
            "        keep the original columns.\n",
            "    date_parser : function, optional\n",
            "        Function to use for converting a sequence of string columns to an array of\n",
            "        datetime instances. The default uses ``dateutil.parser.parser`` to do the\n",
            "        conversion. Pandas will try to call `date_parser` in three different ways,\n",
            "        advancing to the next if an exception occurs: 1) Pass one or more arrays\n",
            "        (as defined by `parse_dates`) as arguments; 2) concatenate (row-wise) the\n",
            "        string values from the columns defined by `parse_dates` into a single array\n",
            "        and pass that; and 3) call `date_parser` once for each row using one or\n",
            "        more strings (corresponding to the columns defined by `parse_dates`) as\n",
            "        arguments.\n",
            "    dayfirst : bool, default False\n",
            "        DD/MM format dates, international and European format.\n",
            "    cache_dates : boolean, default True\n",
            "        If True, use a cache of unique, converted dates to apply the datetime\n",
            "        conversion. May produce significant speed-up when parsing duplicate\n",
            "        date strings, especially ones with timezone offsets.\n",
            "    \n",
            "        .. versionadded:: 0.25.0\n",
            "    iterator : bool, default False\n",
            "        Return TextFileReader object for iteration or getting chunks with\n",
            "        ``get_chunk()``.\n",
            "    chunksize : int, optional\n",
            "        Return TextFileReader object for iteration.\n",
            "        See the `IO Tools docs\n",
            "        <http://pandas.pydata.org/pandas-docs/stable/io.html#io-chunking>`_\n",
            "        for more information on ``iterator`` and ``chunksize``.\n",
            "    compression : {'infer', 'gzip', 'bz2', 'zip', 'xz', None}, default 'infer'\n",
            "        For on-the-fly decompression of on-disk data. If 'infer' and\n",
            "        `filepath_or_buffer` is path-like, then detect compression from the\n",
            "        following extensions: '.gz', '.bz2', '.zip', or '.xz' (otherwise no\n",
            "        decompression). If using 'zip', the ZIP file must contain only one data\n",
            "        file to be read in. Set to None for no decompression.\n",
            "    \n",
            "        .. versionadded:: 0.18.1 support for 'zip' and 'xz' compression.\n",
            "    \n",
            "    thousands : str, optional\n",
            "        Thousands separator.\n",
            "    decimal : str, default '.'\n",
            "        Character to recognize as decimal point (e.g. use ',' for European data).\n",
            "    lineterminator : str (length 1), optional\n",
            "        Character to break file into lines. Only valid with C parser.\n",
            "    quotechar : str (length 1), optional\n",
            "        The character used to denote the start and end of a quoted item. Quoted\n",
            "        items can include the delimiter and it will be ignored.\n",
            "    quoting : int or csv.QUOTE_* instance, default 0\n",
            "        Control field quoting behavior per ``csv.QUOTE_*`` constants. Use one of\n",
            "        QUOTE_MINIMAL (0), QUOTE_ALL (1), QUOTE_NONNUMERIC (2) or QUOTE_NONE (3).\n",
            "    doublequote : bool, default ``True``\n",
            "       When quotechar is specified and quoting is not ``QUOTE_NONE``, indicate\n",
            "       whether or not to interpret two consecutive quotechar elements INSIDE a\n",
            "       field as a single ``quotechar`` element.\n",
            "    escapechar : str (length 1), optional\n",
            "        One-character string used to escape other characters.\n",
            "    comment : str, optional\n",
            "        Indicates remainder of line should not be parsed. If found at the beginning\n",
            "        of a line, the line will be ignored altogether. This parameter must be a\n",
            "        single character. Like empty lines (as long as ``skip_blank_lines=True``),\n",
            "        fully commented lines are ignored by the parameter `header` but not by\n",
            "        `skiprows`. For example, if ``comment='#'``, parsing\n",
            "        ``#empty\\na,b,c\\n1,2,3`` with ``header=0`` will result in 'a,b,c' being\n",
            "        treated as the header.\n",
            "    encoding : str, optional\n",
            "        Encoding to use for UTF when reading/writing (ex. 'utf-8'). `List of Python\n",
            "        standard encodings\n",
            "        <https://docs.python.org/3/library/codecs.html#standard-encodings>`_ .\n",
            "    dialect : str or csv.Dialect, optional\n",
            "        If provided, this parameter will override values (default or not) for the\n",
            "        following parameters: `delimiter`, `doublequote`, `escapechar`,\n",
            "        `skipinitialspace`, `quotechar`, and `quoting`. If it is necessary to\n",
            "        override values, a ParserWarning will be issued. See csv.Dialect\n",
            "        documentation for more details.\n",
            "    error_bad_lines : bool, default True\n",
            "        Lines with too many fields (e.g. a csv line with too many commas) will by\n",
            "        default cause an exception to be raised, and no DataFrame will be returned.\n",
            "        If False, then these \"bad lines\" will dropped from the DataFrame that is\n",
            "        returned.\n",
            "    warn_bad_lines : bool, default True\n",
            "        If error_bad_lines is False, and warn_bad_lines is True, a warning for each\n",
            "        \"bad line\" will be output.\n",
            "    delim_whitespace : bool, default False\n",
            "        Specifies whether or not whitespace (e.g. ``' '`` or ``'    '``) will be\n",
            "        used as the sep. Equivalent to setting ``sep='\\s+'``. If this option\n",
            "        is set to True, nothing should be passed in for the ``delimiter``\n",
            "        parameter.\n",
            "    \n",
            "        .. versionadded:: 0.18.1 support for the Python parser.\n",
            "    \n",
            "    low_memory : bool, default True\n",
            "        Internally process the file in chunks, resulting in lower memory use\n",
            "        while parsing, but possibly mixed type inference.  To ensure no mixed\n",
            "        types either set False, or specify the type with the `dtype` parameter.\n",
            "        Note that the entire file is read into a single DataFrame regardless,\n",
            "        use the `chunksize` or `iterator` parameter to return the data in chunks.\n",
            "        (Only valid with C parser).\n",
            "    memory_map : bool, default False\n",
            "        If a filepath is provided for `filepath_or_buffer`, map the file object\n",
            "        directly onto memory and access the data directly from there. Using this\n",
            "        option can improve performance because there is no longer any I/O overhead.\n",
            "    float_precision : str, optional\n",
            "        Specifies which converter the C engine should use for floating-point\n",
            "        values. The options are `None` for the ordinary converter,\n",
            "        `high` for the high-precision converter, and `round_trip` for the\n",
            "        round-trip converter.\n",
            "    \n",
            "    Returns\n",
            "    -------\n",
            "    DataFrame or TextParser\n",
            "        A comma-separated values (csv) file is returned as two-dimensional\n",
            "        data structure with labeled axes.\n",
            "    \n",
            "    See Also\n",
            "    --------\n",
            "    to_csv : Write DataFrame to a comma-separated values (csv) file.\n",
            "    read_csv : Read a comma-separated values (csv) file into DataFrame.\n",
            "    read_fwf : Read a table of fixed-width formatted lines into DataFrame.\n",
            "    \n",
            "    Examples\n",
            "    --------\n",
            "    >>> pd.read_csv('data.csv')  # doctest: +SKIP\n",
            "\n"
          ],
          "name": "stdout"
        }
      ]
    },
    {
      "cell_type": "code",
      "metadata": {
        "id": "g06YoyGjjQuO",
        "colab_type": "code",
        "colab": {}
      },
      "source": [
        "?pd.read_csv"
      ],
      "execution_count": 0,
      "outputs": []
    },
    {
      "cell_type": "markdown",
      "metadata": {
        "id": "xuX3bUdOhQ1S",
        "colab_type": "text"
      },
      "source": [
        "### Try Again"
      ]
    },
    {
      "cell_type": "code",
      "metadata": {
        "id": "AJfCoAg-hRzq",
        "colab_type": "code",
        "colab": {
          "base_uri": "https://localhost:8080/",
          "height": 262
        },
        "outputId": "e3b9773d-76a7-4f5d-c7cf-2aec0dd409f6"
      },
      "source": [
        "# Keep on trying things until you get it. \n",
        "# If you really mess things up you can always just restart your runtime\n",
        "\n",
        "column_headers = ['name', 'landmass', 'zone', 'area', 'population', 'language', \n",
        "           'religion', 'bars', 'stripes', 'colors', 'red', 'green', 'blue', \n",
        "           'gold', 'white', 'black', 'orange', 'mainhue', 'circles', 'crosses', \n",
        "           'saltires', 'quarters', 'sunstars', 'crescent', 'triangle', 'icon', \n",
        "           'animate', 'text', 'topleft', 'botright']\n",
        "\n",
        "df = pd.read_csv(flag_data_url, names=column_headers)\n",
        "\n",
        "print(df.shape)\n",
        "df.head()"
      ],
      "execution_count": 9,
      "outputs": [
        {
          "output_type": "stream",
          "text": [
            "(194, 30)\n"
          ],
          "name": "stdout"
        },
        {
          "output_type": "execute_result",
          "data": {
            "text/html": [
              "<div>\n",
              "<style scoped>\n",
              "    .dataframe tbody tr th:only-of-type {\n",
              "        vertical-align: middle;\n",
              "    }\n",
              "\n",
              "    .dataframe tbody tr th {\n",
              "        vertical-align: top;\n",
              "    }\n",
              "\n",
              "    .dataframe thead th {\n",
              "        text-align: right;\n",
              "    }\n",
              "</style>\n",
              "<table border=\"1\" class=\"dataframe\">\n",
              "  <thead>\n",
              "    <tr style=\"text-align: right;\">\n",
              "      <th></th>\n",
              "      <th>name</th>\n",
              "      <th>landmass</th>\n",
              "      <th>zone</th>\n",
              "      <th>area</th>\n",
              "      <th>population</th>\n",
              "      <th>language</th>\n",
              "      <th>religion</th>\n",
              "      <th>bars</th>\n",
              "      <th>stripes</th>\n",
              "      <th>colors</th>\n",
              "      <th>red</th>\n",
              "      <th>green</th>\n",
              "      <th>blue</th>\n",
              "      <th>gold</th>\n",
              "      <th>white</th>\n",
              "      <th>black</th>\n",
              "      <th>orange</th>\n",
              "      <th>mainhue</th>\n",
              "      <th>circles</th>\n",
              "      <th>crosses</th>\n",
              "      <th>saltires</th>\n",
              "      <th>quarters</th>\n",
              "      <th>sunstars</th>\n",
              "      <th>crescent</th>\n",
              "      <th>triangle</th>\n",
              "      <th>icon</th>\n",
              "      <th>animate</th>\n",
              "      <th>text</th>\n",
              "      <th>topleft</th>\n",
              "      <th>botright</th>\n",
              "    </tr>\n",
              "  </thead>\n",
              "  <tbody>\n",
              "    <tr>\n",
              "      <th>0</th>\n",
              "      <td>Afghanistan</td>\n",
              "      <td>5</td>\n",
              "      <td>1</td>\n",
              "      <td>648</td>\n",
              "      <td>16</td>\n",
              "      <td>10</td>\n",
              "      <td>2</td>\n",
              "      <td>0</td>\n",
              "      <td>3</td>\n",
              "      <td>5</td>\n",
              "      <td>1</td>\n",
              "      <td>1</td>\n",
              "      <td>0</td>\n",
              "      <td>1</td>\n",
              "      <td>1</td>\n",
              "      <td>1</td>\n",
              "      <td>0</td>\n",
              "      <td>green</td>\n",
              "      <td>0</td>\n",
              "      <td>0</td>\n",
              "      <td>0</td>\n",
              "      <td>0</td>\n",
              "      <td>1</td>\n",
              "      <td>0</td>\n",
              "      <td>0</td>\n",
              "      <td>1</td>\n",
              "      <td>0</td>\n",
              "      <td>0</td>\n",
              "      <td>black</td>\n",
              "      <td>green</td>\n",
              "    </tr>\n",
              "    <tr>\n",
              "      <th>1</th>\n",
              "      <td>Albania</td>\n",
              "      <td>3</td>\n",
              "      <td>1</td>\n",
              "      <td>29</td>\n",
              "      <td>3</td>\n",
              "      <td>6</td>\n",
              "      <td>6</td>\n",
              "      <td>0</td>\n",
              "      <td>0</td>\n",
              "      <td>3</td>\n",
              "      <td>1</td>\n",
              "      <td>0</td>\n",
              "      <td>0</td>\n",
              "      <td>1</td>\n",
              "      <td>0</td>\n",
              "      <td>1</td>\n",
              "      <td>0</td>\n",
              "      <td>red</td>\n",
              "      <td>0</td>\n",
              "      <td>0</td>\n",
              "      <td>0</td>\n",
              "      <td>0</td>\n",
              "      <td>1</td>\n",
              "      <td>0</td>\n",
              "      <td>0</td>\n",
              "      <td>0</td>\n",
              "      <td>1</td>\n",
              "      <td>0</td>\n",
              "      <td>red</td>\n",
              "      <td>red</td>\n",
              "    </tr>\n",
              "    <tr>\n",
              "      <th>2</th>\n",
              "      <td>Algeria</td>\n",
              "      <td>4</td>\n",
              "      <td>1</td>\n",
              "      <td>2388</td>\n",
              "      <td>20</td>\n",
              "      <td>8</td>\n",
              "      <td>2</td>\n",
              "      <td>2</td>\n",
              "      <td>0</td>\n",
              "      <td>3</td>\n",
              "      <td>1</td>\n",
              "      <td>1</td>\n",
              "      <td>0</td>\n",
              "      <td>0</td>\n",
              "      <td>1</td>\n",
              "      <td>0</td>\n",
              "      <td>0</td>\n",
              "      <td>green</td>\n",
              "      <td>0</td>\n",
              "      <td>0</td>\n",
              "      <td>0</td>\n",
              "      <td>0</td>\n",
              "      <td>1</td>\n",
              "      <td>1</td>\n",
              "      <td>0</td>\n",
              "      <td>0</td>\n",
              "      <td>0</td>\n",
              "      <td>0</td>\n",
              "      <td>green</td>\n",
              "      <td>white</td>\n",
              "    </tr>\n",
              "    <tr>\n",
              "      <th>3</th>\n",
              "      <td>American-Samoa</td>\n",
              "      <td>6</td>\n",
              "      <td>3</td>\n",
              "      <td>0</td>\n",
              "      <td>0</td>\n",
              "      <td>1</td>\n",
              "      <td>1</td>\n",
              "      <td>0</td>\n",
              "      <td>0</td>\n",
              "      <td>5</td>\n",
              "      <td>1</td>\n",
              "      <td>0</td>\n",
              "      <td>1</td>\n",
              "      <td>1</td>\n",
              "      <td>1</td>\n",
              "      <td>0</td>\n",
              "      <td>1</td>\n",
              "      <td>blue</td>\n",
              "      <td>0</td>\n",
              "      <td>0</td>\n",
              "      <td>0</td>\n",
              "      <td>0</td>\n",
              "      <td>0</td>\n",
              "      <td>0</td>\n",
              "      <td>1</td>\n",
              "      <td>1</td>\n",
              "      <td>1</td>\n",
              "      <td>0</td>\n",
              "      <td>blue</td>\n",
              "      <td>red</td>\n",
              "    </tr>\n",
              "    <tr>\n",
              "      <th>4</th>\n",
              "      <td>Andorra</td>\n",
              "      <td>3</td>\n",
              "      <td>1</td>\n",
              "      <td>0</td>\n",
              "      <td>0</td>\n",
              "      <td>6</td>\n",
              "      <td>0</td>\n",
              "      <td>3</td>\n",
              "      <td>0</td>\n",
              "      <td>3</td>\n",
              "      <td>1</td>\n",
              "      <td>0</td>\n",
              "      <td>1</td>\n",
              "      <td>1</td>\n",
              "      <td>0</td>\n",
              "      <td>0</td>\n",
              "      <td>0</td>\n",
              "      <td>gold</td>\n",
              "      <td>0</td>\n",
              "      <td>0</td>\n",
              "      <td>0</td>\n",
              "      <td>0</td>\n",
              "      <td>0</td>\n",
              "      <td>0</td>\n",
              "      <td>0</td>\n",
              "      <td>0</td>\n",
              "      <td>0</td>\n",
              "      <td>0</td>\n",
              "      <td>blue</td>\n",
              "      <td>red</td>\n",
              "    </tr>\n",
              "  </tbody>\n",
              "</table>\n",
              "</div>"
            ],
            "text/plain": [
              "             name  landmass  zone  area  ...  animate  text  topleft  botright\n",
              "0     Afghanistan         5     1   648  ...        0     0    black     green\n",
              "1         Albania         3     1    29  ...        1     0      red       red\n",
              "2         Algeria         4     1  2388  ...        0     0    green     white\n",
              "3  American-Samoa         6     3     0  ...        1     0     blue       red\n",
              "4         Andorra         3     1     0  ...        0     0     blue       red\n",
              "\n",
              "[5 rows x 30 columns]"
            ]
          },
          "metadata": {
            "tags": []
          },
          "execution_count": 9
        }
      ]
    },
    {
      "cell_type": "markdown",
      "metadata": {
        "id": "-KRODapErmeM",
        "colab_type": "text"
      },
      "source": [
        "## Challenge\n",
        "\n",
        "You'll get very good at reading documentation, Googling, asking for help, troubleshooting, debugging, etc. by the time you're done here at Lambda School. Our goal is to turn you into a data scientist that can solve their own problems. "
      ]
    },
    {
      "cell_type": "markdown",
      "metadata": {
        "id": "Hi71j4Y-Oj1q",
        "colab_type": "text"
      },
      "source": [
        "# [Objective](#load-csv-from-file) - Load a dataset (CSV) from a local file"
      ]
    },
    {
      "cell_type": "markdown",
      "metadata": {
        "id": "a2FqWlMhloY3",
        "colab_type": "text"
      },
      "source": [
        "## Overview\n",
        "\n",
        "We won't always have CSVs hosted on the interwebs for us. We need to be able to upload files from our local machines as well. With Google Colab this is trickier than it is with other software (like Jupyter Notebooks for example. Because the main file system backing Google Colab is Google Drive, we can't use a filepath to the file on our computers in order to access our data. We have to upload our files to Google Colab before we can start working with them."
      ]
    },
    {
      "cell_type": "markdown",
      "metadata": {
        "id": "jpm_rVwHlnOt",
        "colab_type": "text"
      },
      "source": [
        "## Follow Along"
      ]
    },
    {
      "cell_type": "markdown",
      "metadata": {
        "id": "9ocDcrXWhceM",
        "colab_type": "text"
      },
      "source": [
        "### Method 1: Google Colab File Upload Package\n",
        "- What should we google to try and figure this out?"
      ]
    },
    {
      "cell_type": "code",
      "metadata": {
        "id": "_HQlN7vIhtZe",
        "colab_type": "code",
        "colab": {}
      },
      "source": [
        "from google.colab import files\n",
        "uploaded = files.upload()"
      ],
      "execution_count": 0,
      "outputs": []
    },
    {
      "cell_type": "markdown",
      "metadata": {
        "id": "sqmNtickhoP_",
        "colab_type": "text"
      },
      "source": [
        "### Method 2: Use the GUI (Graphical User Interface)"
      ]
    },
    {
      "cell_type": "code",
      "metadata": {
        "id": "SliGiU1zhbea",
        "colab_type": "code",
        "colab": {
          "base_uri": "https://localhost:8080/",
          "height": 1000
        },
        "outputId": "26392018-2d14-496e-94d3-b4d44dcb93ee"
      },
      "source": [
        "column_headers = ['age', 'workclass', 'fnlwgt', 'education', 'education-num',\n",
        "                  'marital-status', 'occupation', 'relationship', 'race', 'sex',\n",
        "                  'capital-gain', 'capital-loss', 'hours-per-week',\n",
        "                  'native-country', 'income']\n",
        "\n",
        "df = pd.read_csv('adult.data', names=column_headers)\n",
        "print(df.shape)\n",
        "df.head(15)"
      ],
      "execution_count": 10,
      "outputs": [
        {
          "output_type": "stream",
          "text": [
            "(32561, 15)\n"
          ],
          "name": "stdout"
        },
        {
          "output_type": "execute_result",
          "data": {
            "text/html": [
              "<div>\n",
              "<style scoped>\n",
              "    .dataframe tbody tr th:only-of-type {\n",
              "        vertical-align: middle;\n",
              "    }\n",
              "\n",
              "    .dataframe tbody tr th {\n",
              "        vertical-align: top;\n",
              "    }\n",
              "\n",
              "    .dataframe thead th {\n",
              "        text-align: right;\n",
              "    }\n",
              "</style>\n",
              "<table border=\"1\" class=\"dataframe\">\n",
              "  <thead>\n",
              "    <tr style=\"text-align: right;\">\n",
              "      <th></th>\n",
              "      <th>age</th>\n",
              "      <th>workclass</th>\n",
              "      <th>fnlwgt</th>\n",
              "      <th>education</th>\n",
              "      <th>education-num</th>\n",
              "      <th>marital-status</th>\n",
              "      <th>occupation</th>\n",
              "      <th>relationship</th>\n",
              "      <th>race</th>\n",
              "      <th>sex</th>\n",
              "      <th>capital-gain</th>\n",
              "      <th>capital-loss</th>\n",
              "      <th>hours-per-week</th>\n",
              "      <th>native-country</th>\n",
              "      <th>income</th>\n",
              "    </tr>\n",
              "  </thead>\n",
              "  <tbody>\n",
              "    <tr>\n",
              "      <th>0</th>\n",
              "      <td>39</td>\n",
              "      <td>State-gov</td>\n",
              "      <td>77516</td>\n",
              "      <td>Bachelors</td>\n",
              "      <td>13</td>\n",
              "      <td>Never-married</td>\n",
              "      <td>Adm-clerical</td>\n",
              "      <td>Not-in-family</td>\n",
              "      <td>White</td>\n",
              "      <td>Male</td>\n",
              "      <td>2174</td>\n",
              "      <td>0</td>\n",
              "      <td>40</td>\n",
              "      <td>United-States</td>\n",
              "      <td>&lt;=50K</td>\n",
              "    </tr>\n",
              "    <tr>\n",
              "      <th>1</th>\n",
              "      <td>50</td>\n",
              "      <td>Self-emp-not-inc</td>\n",
              "      <td>83311</td>\n",
              "      <td>Bachelors</td>\n",
              "      <td>13</td>\n",
              "      <td>Married-civ-spouse</td>\n",
              "      <td>Exec-managerial</td>\n",
              "      <td>Husband</td>\n",
              "      <td>White</td>\n",
              "      <td>Male</td>\n",
              "      <td>0</td>\n",
              "      <td>0</td>\n",
              "      <td>13</td>\n",
              "      <td>United-States</td>\n",
              "      <td>&lt;=50K</td>\n",
              "    </tr>\n",
              "    <tr>\n",
              "      <th>2</th>\n",
              "      <td>38</td>\n",
              "      <td>Private</td>\n",
              "      <td>215646</td>\n",
              "      <td>HS-grad</td>\n",
              "      <td>9</td>\n",
              "      <td>Divorced</td>\n",
              "      <td>Handlers-cleaners</td>\n",
              "      <td>Not-in-family</td>\n",
              "      <td>White</td>\n",
              "      <td>Male</td>\n",
              "      <td>0</td>\n",
              "      <td>0</td>\n",
              "      <td>40</td>\n",
              "      <td>United-States</td>\n",
              "      <td>&lt;=50K</td>\n",
              "    </tr>\n",
              "    <tr>\n",
              "      <th>3</th>\n",
              "      <td>53</td>\n",
              "      <td>Private</td>\n",
              "      <td>234721</td>\n",
              "      <td>11th</td>\n",
              "      <td>7</td>\n",
              "      <td>Married-civ-spouse</td>\n",
              "      <td>Handlers-cleaners</td>\n",
              "      <td>Husband</td>\n",
              "      <td>Black</td>\n",
              "      <td>Male</td>\n",
              "      <td>0</td>\n",
              "      <td>0</td>\n",
              "      <td>40</td>\n",
              "      <td>United-States</td>\n",
              "      <td>&lt;=50K</td>\n",
              "    </tr>\n",
              "    <tr>\n",
              "      <th>4</th>\n",
              "      <td>28</td>\n",
              "      <td>Private</td>\n",
              "      <td>338409</td>\n",
              "      <td>Bachelors</td>\n",
              "      <td>13</td>\n",
              "      <td>Married-civ-spouse</td>\n",
              "      <td>Prof-specialty</td>\n",
              "      <td>Wife</td>\n",
              "      <td>Black</td>\n",
              "      <td>Female</td>\n",
              "      <td>0</td>\n",
              "      <td>0</td>\n",
              "      <td>40</td>\n",
              "      <td>Cuba</td>\n",
              "      <td>&lt;=50K</td>\n",
              "    </tr>\n",
              "    <tr>\n",
              "      <th>5</th>\n",
              "      <td>37</td>\n",
              "      <td>Private</td>\n",
              "      <td>284582</td>\n",
              "      <td>Masters</td>\n",
              "      <td>14</td>\n",
              "      <td>Married-civ-spouse</td>\n",
              "      <td>Exec-managerial</td>\n",
              "      <td>Wife</td>\n",
              "      <td>White</td>\n",
              "      <td>Female</td>\n",
              "      <td>0</td>\n",
              "      <td>0</td>\n",
              "      <td>40</td>\n",
              "      <td>United-States</td>\n",
              "      <td>&lt;=50K</td>\n",
              "    </tr>\n",
              "    <tr>\n",
              "      <th>6</th>\n",
              "      <td>49</td>\n",
              "      <td>Private</td>\n",
              "      <td>160187</td>\n",
              "      <td>9th</td>\n",
              "      <td>5</td>\n",
              "      <td>Married-spouse-absent</td>\n",
              "      <td>Other-service</td>\n",
              "      <td>Not-in-family</td>\n",
              "      <td>Black</td>\n",
              "      <td>Female</td>\n",
              "      <td>0</td>\n",
              "      <td>0</td>\n",
              "      <td>16</td>\n",
              "      <td>Jamaica</td>\n",
              "      <td>&lt;=50K</td>\n",
              "    </tr>\n",
              "    <tr>\n",
              "      <th>7</th>\n",
              "      <td>52</td>\n",
              "      <td>Self-emp-not-inc</td>\n",
              "      <td>209642</td>\n",
              "      <td>HS-grad</td>\n",
              "      <td>9</td>\n",
              "      <td>Married-civ-spouse</td>\n",
              "      <td>Exec-managerial</td>\n",
              "      <td>Husband</td>\n",
              "      <td>White</td>\n",
              "      <td>Male</td>\n",
              "      <td>0</td>\n",
              "      <td>0</td>\n",
              "      <td>45</td>\n",
              "      <td>United-States</td>\n",
              "      <td>&gt;50K</td>\n",
              "    </tr>\n",
              "    <tr>\n",
              "      <th>8</th>\n",
              "      <td>31</td>\n",
              "      <td>Private</td>\n",
              "      <td>45781</td>\n",
              "      <td>Masters</td>\n",
              "      <td>14</td>\n",
              "      <td>Never-married</td>\n",
              "      <td>Prof-specialty</td>\n",
              "      <td>Not-in-family</td>\n",
              "      <td>White</td>\n",
              "      <td>Female</td>\n",
              "      <td>14084</td>\n",
              "      <td>0</td>\n",
              "      <td>50</td>\n",
              "      <td>United-States</td>\n",
              "      <td>&gt;50K</td>\n",
              "    </tr>\n",
              "    <tr>\n",
              "      <th>9</th>\n",
              "      <td>42</td>\n",
              "      <td>Private</td>\n",
              "      <td>159449</td>\n",
              "      <td>Bachelors</td>\n",
              "      <td>13</td>\n",
              "      <td>Married-civ-spouse</td>\n",
              "      <td>Exec-managerial</td>\n",
              "      <td>Husband</td>\n",
              "      <td>White</td>\n",
              "      <td>Male</td>\n",
              "      <td>5178</td>\n",
              "      <td>0</td>\n",
              "      <td>40</td>\n",
              "      <td>United-States</td>\n",
              "      <td>&gt;50K</td>\n",
              "    </tr>\n",
              "    <tr>\n",
              "      <th>10</th>\n",
              "      <td>37</td>\n",
              "      <td>Private</td>\n",
              "      <td>280464</td>\n",
              "      <td>Some-college</td>\n",
              "      <td>10</td>\n",
              "      <td>Married-civ-spouse</td>\n",
              "      <td>Exec-managerial</td>\n",
              "      <td>Husband</td>\n",
              "      <td>Black</td>\n",
              "      <td>Male</td>\n",
              "      <td>0</td>\n",
              "      <td>0</td>\n",
              "      <td>80</td>\n",
              "      <td>United-States</td>\n",
              "      <td>&gt;50K</td>\n",
              "    </tr>\n",
              "    <tr>\n",
              "      <th>11</th>\n",
              "      <td>30</td>\n",
              "      <td>State-gov</td>\n",
              "      <td>141297</td>\n",
              "      <td>Bachelors</td>\n",
              "      <td>13</td>\n",
              "      <td>Married-civ-spouse</td>\n",
              "      <td>Prof-specialty</td>\n",
              "      <td>Husband</td>\n",
              "      <td>Asian-Pac-Islander</td>\n",
              "      <td>Male</td>\n",
              "      <td>0</td>\n",
              "      <td>0</td>\n",
              "      <td>40</td>\n",
              "      <td>India</td>\n",
              "      <td>&gt;50K</td>\n",
              "    </tr>\n",
              "    <tr>\n",
              "      <th>12</th>\n",
              "      <td>23</td>\n",
              "      <td>Private</td>\n",
              "      <td>122272</td>\n",
              "      <td>Bachelors</td>\n",
              "      <td>13</td>\n",
              "      <td>Never-married</td>\n",
              "      <td>Adm-clerical</td>\n",
              "      <td>Own-child</td>\n",
              "      <td>White</td>\n",
              "      <td>Female</td>\n",
              "      <td>0</td>\n",
              "      <td>0</td>\n",
              "      <td>30</td>\n",
              "      <td>United-States</td>\n",
              "      <td>&lt;=50K</td>\n",
              "    </tr>\n",
              "    <tr>\n",
              "      <th>13</th>\n",
              "      <td>32</td>\n",
              "      <td>Private</td>\n",
              "      <td>205019</td>\n",
              "      <td>Assoc-acdm</td>\n",
              "      <td>12</td>\n",
              "      <td>Never-married</td>\n",
              "      <td>Sales</td>\n",
              "      <td>Not-in-family</td>\n",
              "      <td>Black</td>\n",
              "      <td>Male</td>\n",
              "      <td>0</td>\n",
              "      <td>0</td>\n",
              "      <td>50</td>\n",
              "      <td>United-States</td>\n",
              "      <td>&lt;=50K</td>\n",
              "    </tr>\n",
              "    <tr>\n",
              "      <th>14</th>\n",
              "      <td>40</td>\n",
              "      <td>Private</td>\n",
              "      <td>121772</td>\n",
              "      <td>Assoc-voc</td>\n",
              "      <td>11</td>\n",
              "      <td>Married-civ-spouse</td>\n",
              "      <td>Craft-repair</td>\n",
              "      <td>Husband</td>\n",
              "      <td>Asian-Pac-Islander</td>\n",
              "      <td>Male</td>\n",
              "      <td>0</td>\n",
              "      <td>0</td>\n",
              "      <td>40</td>\n",
              "      <td>?</td>\n",
              "      <td>&gt;50K</td>\n",
              "    </tr>\n",
              "  </tbody>\n",
              "</table>\n",
              "</div>"
            ],
            "text/plain": [
              "    age          workclass  fnlwgt  ... hours-per-week  native-country  income\n",
              "0    39          State-gov   77516  ...             40   United-States   <=50K\n",
              "1    50   Self-emp-not-inc   83311  ...             13   United-States   <=50K\n",
              "2    38            Private  215646  ...             40   United-States   <=50K\n",
              "3    53            Private  234721  ...             40   United-States   <=50K\n",
              "4    28            Private  338409  ...             40            Cuba   <=50K\n",
              "5    37            Private  284582  ...             40   United-States   <=50K\n",
              "6    49            Private  160187  ...             16         Jamaica   <=50K\n",
              "7    52   Self-emp-not-inc  209642  ...             45   United-States    >50K\n",
              "8    31            Private   45781  ...             50   United-States    >50K\n",
              "9    42            Private  159449  ...             40   United-States    >50K\n",
              "10   37            Private  280464  ...             80   United-States    >50K\n",
              "11   30          State-gov  141297  ...             40           India    >50K\n",
              "12   23            Private  122272  ...             30   United-States   <=50K\n",
              "13   32            Private  205019  ...             50   United-States   <=50K\n",
              "14   40            Private  121772  ...             40               ?    >50K\n",
              "\n",
              "[15 rows x 15 columns]"
            ]
          },
          "metadata": {
            "tags": []
          },
          "execution_count": 10
        }
      ]
    },
    {
      "cell_type": "markdown",
      "metadata": {
        "id": "A-jXtl0Er8EM",
        "colab_type": "text"
      },
      "source": [
        "## Challenge\n",
        "\n",
        "On the assignment this afternoon you'll get to choose a new dataset and try both of these methods, we will load hundreds of datasets into notebooks by the time the class is over, you'll be pro at it in no time."
      ]
    },
    {
      "cell_type": "markdown",
      "metadata": {
        "id": "5iFyoAdDOoqu",
        "colab_type": "text"
      },
      "source": [
        "# [Objective](#basic-pandas-functions) - Use basic Pandas functions for Exploratory Data Analysis (EDA)"
      ]
    },
    {
      "cell_type": "markdown",
      "metadata": {
        "id": "k9DobU7dqILL",
        "colab_type": "text"
      },
      "source": [
        "## Overview\n",
        "\n",
        "> Exploratory Data Analysis (EDA) refers to the critical process of performing initial investigations on data so as to discover patterns, to spot anomalies, to test hypotheses and to check assumptions with the help of summary statistics and graphical representations\n",
        "\n",
        "Exploratory Data Analysis is often the first thing that we'll do when starting out with a new dataset. How we treat our data, the models we choose, the approach we take to analyzing our data and in large part the entirety of our data science methodology and next steps are driven by the discoveries that we make during this stage of the process. "
      ]
    },
    {
      "cell_type": "markdown",
      "metadata": {
        "id": "iRBUyBOWog7X",
        "colab_type": "text"
      },
      "source": [
        "## Follow Along\n",
        "\n",
        "What can we discover about this dataset?\n",
        "\n",
        "- df.shape\n",
        "- df.head()\n",
        "- df.dtypes\n",
        "- df.describe()\n",
        " - Numeric\n",
        " - Non-Numeric\n",
        "- df['column'].value_counts()\n",
        "- df.isnull().sum()\n",
        "- df.fillna()\n",
        "- df.dropna()\n",
        "- df.drop()\n",
        "- pd.crosstab()"
      ]
    },
    {
      "cell_type": "code",
      "metadata": {
        "id": "bG32upP9qQu4",
        "colab_type": "code",
        "colab": {
          "base_uri": "https://localhost:8080/",
          "height": 311
        },
        "outputId": "10b43942-57d1-4738-b13c-780e581d14a7"
      },
      "source": [
        "df.isnull().sum()"
      ],
      "execution_count": 11,
      "outputs": [
        {
          "output_type": "execute_result",
          "data": {
            "text/plain": [
              "age               0\n",
              "workclass         0\n",
              "fnlwgt            0\n",
              "education         0\n",
              "education-num     0\n",
              "marital-status    0\n",
              "occupation        0\n",
              "relationship      0\n",
              "race              0\n",
              "sex               0\n",
              "capital-gain      0\n",
              "capital-loss      0\n",
              "hours-per-week    0\n",
              "native-country    0\n",
              "income            0\n",
              "dtype: int64"
            ]
          },
          "metadata": {
            "tags": []
          },
          "execution_count": 11
        }
      ]
    },
    {
      "cell_type": "code",
      "metadata": {
        "id": "TZ7WfLodp135",
        "colab_type": "code",
        "colab": {
          "base_uri": "https://localhost:8080/",
          "height": 35
        },
        "outputId": "7ca30669-833c-4e3c-92d2-2ff6e49f60e7"
      },
      "source": [
        "# Go to the source\n",
        "df['native-country'][14]"
      ],
      "execution_count": 12,
      "outputs": [
        {
          "output_type": "execute_result",
          "data": {
            "text/plain": [
              "' ?'"
            ]
          },
          "metadata": {
            "tags": []
          },
          "execution_count": 12
        }
      ]
    },
    {
      "cell_type": "code",
      "metadata": {
        "id": "8AyICwNco-lV",
        "colab_type": "code",
        "colab": {}
      },
      "source": [
        "import numpy as np\n",
        "\n",
        "df = df.replace({\" ?\": np.NaN})"
      ],
      "execution_count": 0,
      "outputs": []
    },
    {
      "cell_type": "code",
      "metadata": {
        "id": "cGU_UjFKpGsE",
        "colab_type": "code",
        "colab": {
          "base_uri": "https://localhost:8080/",
          "height": 311
        },
        "outputId": "e0b8258f-9c74-4c17-f2a8-2dbad3833b5f"
      },
      "source": [
        "df.isnull().sum()"
      ],
      "execution_count": 14,
      "outputs": [
        {
          "output_type": "execute_result",
          "data": {
            "text/plain": [
              "age                  0\n",
              "workclass         1836\n",
              "fnlwgt               0\n",
              "education            0\n",
              "education-num        0\n",
              "marital-status       0\n",
              "occupation        1843\n",
              "relationship         0\n",
              "race                 0\n",
              "sex                  0\n",
              "capital-gain         0\n",
              "capital-loss         0\n",
              "hours-per-week       0\n",
              "native-country     583\n",
              "income               0\n",
              "dtype: int64"
            ]
          },
          "metadata": {
            "tags": []
          },
          "execution_count": 14
        }
      ]
    },
    {
      "cell_type": "code",
      "metadata": {
        "id": "8grpctSiq8dC",
        "colab_type": "code",
        "colab": {
          "base_uri": "https://localhost:8080/",
          "height": 311
        },
        "outputId": "ab71d220-1f61-49aa-8205-7782d42c84ae"
      },
      "source": [
        "df.dtypes"
      ],
      "execution_count": 16,
      "outputs": [
        {
          "output_type": "execute_result",
          "data": {
            "text/plain": [
              "age                int64\n",
              "workclass         object\n",
              "fnlwgt             int64\n",
              "education         object\n",
              "education-num      int64\n",
              "marital-status    object\n",
              "occupation        object\n",
              "relationship      object\n",
              "race              object\n",
              "sex               object\n",
              "capital-gain       int64\n",
              "capital-loss       int64\n",
              "hours-per-week     int64\n",
              "native-country    object\n",
              "income            object\n",
              "dtype: object"
            ]
          },
          "metadata": {
            "tags": []
          },
          "execution_count": 16
        }
      ]
    },
    {
      "cell_type": "code",
      "metadata": {
        "id": "6nNIw-J2rBD1",
        "colab_type": "code",
        "colab": {
          "base_uri": "https://localhost:8080/",
          "height": 300
        },
        "outputId": "a75f7f18-5d31-47b2-fad1-1a3d935e76cb"
      },
      "source": [
        "df.describe()"
      ],
      "execution_count": 18,
      "outputs": [
        {
          "output_type": "execute_result",
          "data": {
            "text/html": [
              "<div>\n",
              "<style scoped>\n",
              "    .dataframe tbody tr th:only-of-type {\n",
              "        vertical-align: middle;\n",
              "    }\n",
              "\n",
              "    .dataframe tbody tr th {\n",
              "        vertical-align: top;\n",
              "    }\n",
              "\n",
              "    .dataframe thead th {\n",
              "        text-align: right;\n",
              "    }\n",
              "</style>\n",
              "<table border=\"1\" class=\"dataframe\">\n",
              "  <thead>\n",
              "    <tr style=\"text-align: right;\">\n",
              "      <th></th>\n",
              "      <th>age</th>\n",
              "      <th>fnlwgt</th>\n",
              "      <th>education-num</th>\n",
              "      <th>capital-gain</th>\n",
              "      <th>capital-loss</th>\n",
              "      <th>hours-per-week</th>\n",
              "    </tr>\n",
              "  </thead>\n",
              "  <tbody>\n",
              "    <tr>\n",
              "      <th>count</th>\n",
              "      <td>32561.000000</td>\n",
              "      <td>3.256100e+04</td>\n",
              "      <td>32561.000000</td>\n",
              "      <td>32561.000000</td>\n",
              "      <td>32561.000000</td>\n",
              "      <td>32561.000000</td>\n",
              "    </tr>\n",
              "    <tr>\n",
              "      <th>mean</th>\n",
              "      <td>38.581647</td>\n",
              "      <td>1.897784e+05</td>\n",
              "      <td>10.080679</td>\n",
              "      <td>1077.648844</td>\n",
              "      <td>87.303830</td>\n",
              "      <td>40.437456</td>\n",
              "    </tr>\n",
              "    <tr>\n",
              "      <th>std</th>\n",
              "      <td>13.640433</td>\n",
              "      <td>1.055500e+05</td>\n",
              "      <td>2.572720</td>\n",
              "      <td>7385.292085</td>\n",
              "      <td>402.960219</td>\n",
              "      <td>12.347429</td>\n",
              "    </tr>\n",
              "    <tr>\n",
              "      <th>min</th>\n",
              "      <td>17.000000</td>\n",
              "      <td>1.228500e+04</td>\n",
              "      <td>1.000000</td>\n",
              "      <td>0.000000</td>\n",
              "      <td>0.000000</td>\n",
              "      <td>1.000000</td>\n",
              "    </tr>\n",
              "    <tr>\n",
              "      <th>25%</th>\n",
              "      <td>28.000000</td>\n",
              "      <td>1.178270e+05</td>\n",
              "      <td>9.000000</td>\n",
              "      <td>0.000000</td>\n",
              "      <td>0.000000</td>\n",
              "      <td>40.000000</td>\n",
              "    </tr>\n",
              "    <tr>\n",
              "      <th>50%</th>\n",
              "      <td>37.000000</td>\n",
              "      <td>1.783560e+05</td>\n",
              "      <td>10.000000</td>\n",
              "      <td>0.000000</td>\n",
              "      <td>0.000000</td>\n",
              "      <td>40.000000</td>\n",
              "    </tr>\n",
              "    <tr>\n",
              "      <th>75%</th>\n",
              "      <td>48.000000</td>\n",
              "      <td>2.370510e+05</td>\n",
              "      <td>12.000000</td>\n",
              "      <td>0.000000</td>\n",
              "      <td>0.000000</td>\n",
              "      <td>45.000000</td>\n",
              "    </tr>\n",
              "    <tr>\n",
              "      <th>max</th>\n",
              "      <td>90.000000</td>\n",
              "      <td>1.484705e+06</td>\n",
              "      <td>16.000000</td>\n",
              "      <td>99999.000000</td>\n",
              "      <td>4356.000000</td>\n",
              "      <td>99.000000</td>\n",
              "    </tr>\n",
              "  </tbody>\n",
              "</table>\n",
              "</div>"
            ],
            "text/plain": [
              "                age        fnlwgt  ...  capital-loss  hours-per-week\n",
              "count  32561.000000  3.256100e+04  ...  32561.000000    32561.000000\n",
              "mean      38.581647  1.897784e+05  ...     87.303830       40.437456\n",
              "std       13.640433  1.055500e+05  ...    402.960219       12.347429\n",
              "min       17.000000  1.228500e+04  ...      0.000000        1.000000\n",
              "25%       28.000000  1.178270e+05  ...      0.000000       40.000000\n",
              "50%       37.000000  1.783560e+05  ...      0.000000       40.000000\n",
              "75%       48.000000  2.370510e+05  ...      0.000000       45.000000\n",
              "max       90.000000  1.484705e+06  ...   4356.000000       99.000000\n",
              "\n",
              "[8 rows x 6 columns]"
            ]
          },
          "metadata": {
            "tags": []
          },
          "execution_count": 18
        }
      ]
    },
    {
      "cell_type": "code",
      "metadata": {
        "id": "YXB3dI1TrM6g",
        "colab_type": "code",
        "colab": {
          "base_uri": "https://localhost:8080/",
          "height": 175
        },
        "outputId": "e290946b-a5ff-49ad-b5f9-fcecdc2d9ede"
      },
      "source": [
        "df.describe(exclude='number')"
      ],
      "execution_count": 20,
      "outputs": [
        {
          "output_type": "execute_result",
          "data": {
            "text/html": [
              "<div>\n",
              "<style scoped>\n",
              "    .dataframe tbody tr th:only-of-type {\n",
              "        vertical-align: middle;\n",
              "    }\n",
              "\n",
              "    .dataframe tbody tr th {\n",
              "        vertical-align: top;\n",
              "    }\n",
              "\n",
              "    .dataframe thead th {\n",
              "        text-align: right;\n",
              "    }\n",
              "</style>\n",
              "<table border=\"1\" class=\"dataframe\">\n",
              "  <thead>\n",
              "    <tr style=\"text-align: right;\">\n",
              "      <th></th>\n",
              "      <th>workclass</th>\n",
              "      <th>education</th>\n",
              "      <th>marital-status</th>\n",
              "      <th>occupation</th>\n",
              "      <th>relationship</th>\n",
              "      <th>race</th>\n",
              "      <th>sex</th>\n",
              "      <th>native-country</th>\n",
              "      <th>income</th>\n",
              "    </tr>\n",
              "  </thead>\n",
              "  <tbody>\n",
              "    <tr>\n",
              "      <th>count</th>\n",
              "      <td>30725</td>\n",
              "      <td>32561</td>\n",
              "      <td>32561</td>\n",
              "      <td>30718</td>\n",
              "      <td>32561</td>\n",
              "      <td>32561</td>\n",
              "      <td>32561</td>\n",
              "      <td>31978</td>\n",
              "      <td>32561</td>\n",
              "    </tr>\n",
              "    <tr>\n",
              "      <th>unique</th>\n",
              "      <td>8</td>\n",
              "      <td>16</td>\n",
              "      <td>7</td>\n",
              "      <td>14</td>\n",
              "      <td>6</td>\n",
              "      <td>5</td>\n",
              "      <td>2</td>\n",
              "      <td>41</td>\n",
              "      <td>2</td>\n",
              "    </tr>\n",
              "    <tr>\n",
              "      <th>top</th>\n",
              "      <td>Private</td>\n",
              "      <td>HS-grad</td>\n",
              "      <td>Married-civ-spouse</td>\n",
              "      <td>Prof-specialty</td>\n",
              "      <td>Husband</td>\n",
              "      <td>White</td>\n",
              "      <td>Male</td>\n",
              "      <td>United-States</td>\n",
              "      <td>&lt;=50K</td>\n",
              "    </tr>\n",
              "    <tr>\n",
              "      <th>freq</th>\n",
              "      <td>22696</td>\n",
              "      <td>10501</td>\n",
              "      <td>14976</td>\n",
              "      <td>4140</td>\n",
              "      <td>13193</td>\n",
              "      <td>27816</td>\n",
              "      <td>21790</td>\n",
              "      <td>29170</td>\n",
              "      <td>24720</td>\n",
              "    </tr>\n",
              "  </tbody>\n",
              "</table>\n",
              "</div>"
            ],
            "text/plain": [
              "       workclass education       marital-status  ...    sex  native-country  income\n",
              "count      30725     32561                32561  ...  32561           31978   32561\n",
              "unique         8        16                    7  ...      2              41       2\n",
              "top      Private   HS-grad   Married-civ-spouse  ...   Male   United-States   <=50K\n",
              "freq       22696     10501                14976  ...  21790           29170   24720\n",
              "\n",
              "[4 rows x 9 columns]"
            ]
          },
          "metadata": {
            "tags": []
          },
          "execution_count": 20
        }
      ]
    },
    {
      "cell_type": "code",
      "metadata": {
        "id": "dB7cyXEhrjpo",
        "colab_type": "code",
        "colab": {
          "base_uri": "https://localhost:8080/",
          "height": 467
        },
        "outputId": "c1437925-8f14-40cb-8da6-f3533e7e217d"
      },
      "source": [
        "df.describe(include='all')"
      ],
      "execution_count": 21,
      "outputs": [
        {
          "output_type": "execute_result",
          "data": {
            "text/html": [
              "<div>\n",
              "<style scoped>\n",
              "    .dataframe tbody tr th:only-of-type {\n",
              "        vertical-align: middle;\n",
              "    }\n",
              "\n",
              "    .dataframe tbody tr th {\n",
              "        vertical-align: top;\n",
              "    }\n",
              "\n",
              "    .dataframe thead th {\n",
              "        text-align: right;\n",
              "    }\n",
              "</style>\n",
              "<table border=\"1\" class=\"dataframe\">\n",
              "  <thead>\n",
              "    <tr style=\"text-align: right;\">\n",
              "      <th></th>\n",
              "      <th>age</th>\n",
              "      <th>workclass</th>\n",
              "      <th>fnlwgt</th>\n",
              "      <th>education</th>\n",
              "      <th>education-num</th>\n",
              "      <th>marital-status</th>\n",
              "      <th>occupation</th>\n",
              "      <th>relationship</th>\n",
              "      <th>race</th>\n",
              "      <th>sex</th>\n",
              "      <th>capital-gain</th>\n",
              "      <th>capital-loss</th>\n",
              "      <th>hours-per-week</th>\n",
              "      <th>native-country</th>\n",
              "      <th>income</th>\n",
              "    </tr>\n",
              "  </thead>\n",
              "  <tbody>\n",
              "    <tr>\n",
              "      <th>count</th>\n",
              "      <td>32561.000000</td>\n",
              "      <td>30725</td>\n",
              "      <td>3.256100e+04</td>\n",
              "      <td>32561</td>\n",
              "      <td>32561.000000</td>\n",
              "      <td>32561</td>\n",
              "      <td>30718</td>\n",
              "      <td>32561</td>\n",
              "      <td>32561</td>\n",
              "      <td>32561</td>\n",
              "      <td>32561.000000</td>\n",
              "      <td>32561.000000</td>\n",
              "      <td>32561.000000</td>\n",
              "      <td>31978</td>\n",
              "      <td>32561</td>\n",
              "    </tr>\n",
              "    <tr>\n",
              "      <th>unique</th>\n",
              "      <td>NaN</td>\n",
              "      <td>8</td>\n",
              "      <td>NaN</td>\n",
              "      <td>16</td>\n",
              "      <td>NaN</td>\n",
              "      <td>7</td>\n",
              "      <td>14</td>\n",
              "      <td>6</td>\n",
              "      <td>5</td>\n",
              "      <td>2</td>\n",
              "      <td>NaN</td>\n",
              "      <td>NaN</td>\n",
              "      <td>NaN</td>\n",
              "      <td>41</td>\n",
              "      <td>2</td>\n",
              "    </tr>\n",
              "    <tr>\n",
              "      <th>top</th>\n",
              "      <td>NaN</td>\n",
              "      <td>Private</td>\n",
              "      <td>NaN</td>\n",
              "      <td>HS-grad</td>\n",
              "      <td>NaN</td>\n",
              "      <td>Married-civ-spouse</td>\n",
              "      <td>Prof-specialty</td>\n",
              "      <td>Husband</td>\n",
              "      <td>White</td>\n",
              "      <td>Male</td>\n",
              "      <td>NaN</td>\n",
              "      <td>NaN</td>\n",
              "      <td>NaN</td>\n",
              "      <td>United-States</td>\n",
              "      <td>&lt;=50K</td>\n",
              "    </tr>\n",
              "    <tr>\n",
              "      <th>freq</th>\n",
              "      <td>NaN</td>\n",
              "      <td>22696</td>\n",
              "      <td>NaN</td>\n",
              "      <td>10501</td>\n",
              "      <td>NaN</td>\n",
              "      <td>14976</td>\n",
              "      <td>4140</td>\n",
              "      <td>13193</td>\n",
              "      <td>27816</td>\n",
              "      <td>21790</td>\n",
              "      <td>NaN</td>\n",
              "      <td>NaN</td>\n",
              "      <td>NaN</td>\n",
              "      <td>29170</td>\n",
              "      <td>24720</td>\n",
              "    </tr>\n",
              "    <tr>\n",
              "      <th>mean</th>\n",
              "      <td>38.581647</td>\n",
              "      <td>NaN</td>\n",
              "      <td>1.897784e+05</td>\n",
              "      <td>NaN</td>\n",
              "      <td>10.080679</td>\n",
              "      <td>NaN</td>\n",
              "      <td>NaN</td>\n",
              "      <td>NaN</td>\n",
              "      <td>NaN</td>\n",
              "      <td>NaN</td>\n",
              "      <td>1077.648844</td>\n",
              "      <td>87.303830</td>\n",
              "      <td>40.437456</td>\n",
              "      <td>NaN</td>\n",
              "      <td>NaN</td>\n",
              "    </tr>\n",
              "    <tr>\n",
              "      <th>std</th>\n",
              "      <td>13.640433</td>\n",
              "      <td>NaN</td>\n",
              "      <td>1.055500e+05</td>\n",
              "      <td>NaN</td>\n",
              "      <td>2.572720</td>\n",
              "      <td>NaN</td>\n",
              "      <td>NaN</td>\n",
              "      <td>NaN</td>\n",
              "      <td>NaN</td>\n",
              "      <td>NaN</td>\n",
              "      <td>7385.292085</td>\n",
              "      <td>402.960219</td>\n",
              "      <td>12.347429</td>\n",
              "      <td>NaN</td>\n",
              "      <td>NaN</td>\n",
              "    </tr>\n",
              "    <tr>\n",
              "      <th>min</th>\n",
              "      <td>17.000000</td>\n",
              "      <td>NaN</td>\n",
              "      <td>1.228500e+04</td>\n",
              "      <td>NaN</td>\n",
              "      <td>1.000000</td>\n",
              "      <td>NaN</td>\n",
              "      <td>NaN</td>\n",
              "      <td>NaN</td>\n",
              "      <td>NaN</td>\n",
              "      <td>NaN</td>\n",
              "      <td>0.000000</td>\n",
              "      <td>0.000000</td>\n",
              "      <td>1.000000</td>\n",
              "      <td>NaN</td>\n",
              "      <td>NaN</td>\n",
              "    </tr>\n",
              "    <tr>\n",
              "      <th>25%</th>\n",
              "      <td>28.000000</td>\n",
              "      <td>NaN</td>\n",
              "      <td>1.178270e+05</td>\n",
              "      <td>NaN</td>\n",
              "      <td>9.000000</td>\n",
              "      <td>NaN</td>\n",
              "      <td>NaN</td>\n",
              "      <td>NaN</td>\n",
              "      <td>NaN</td>\n",
              "      <td>NaN</td>\n",
              "      <td>0.000000</td>\n",
              "      <td>0.000000</td>\n",
              "      <td>40.000000</td>\n",
              "      <td>NaN</td>\n",
              "      <td>NaN</td>\n",
              "    </tr>\n",
              "    <tr>\n",
              "      <th>50%</th>\n",
              "      <td>37.000000</td>\n",
              "      <td>NaN</td>\n",
              "      <td>1.783560e+05</td>\n",
              "      <td>NaN</td>\n",
              "      <td>10.000000</td>\n",
              "      <td>NaN</td>\n",
              "      <td>NaN</td>\n",
              "      <td>NaN</td>\n",
              "      <td>NaN</td>\n",
              "      <td>NaN</td>\n",
              "      <td>0.000000</td>\n",
              "      <td>0.000000</td>\n",
              "      <td>40.000000</td>\n",
              "      <td>NaN</td>\n",
              "      <td>NaN</td>\n",
              "    </tr>\n",
              "    <tr>\n",
              "      <th>75%</th>\n",
              "      <td>48.000000</td>\n",
              "      <td>NaN</td>\n",
              "      <td>2.370510e+05</td>\n",
              "      <td>NaN</td>\n",
              "      <td>12.000000</td>\n",
              "      <td>NaN</td>\n",
              "      <td>NaN</td>\n",
              "      <td>NaN</td>\n",
              "      <td>NaN</td>\n",
              "      <td>NaN</td>\n",
              "      <td>0.000000</td>\n",
              "      <td>0.000000</td>\n",
              "      <td>45.000000</td>\n",
              "      <td>NaN</td>\n",
              "      <td>NaN</td>\n",
              "    </tr>\n",
              "    <tr>\n",
              "      <th>max</th>\n",
              "      <td>90.000000</td>\n",
              "      <td>NaN</td>\n",
              "      <td>1.484705e+06</td>\n",
              "      <td>NaN</td>\n",
              "      <td>16.000000</td>\n",
              "      <td>NaN</td>\n",
              "      <td>NaN</td>\n",
              "      <td>NaN</td>\n",
              "      <td>NaN</td>\n",
              "      <td>NaN</td>\n",
              "      <td>99999.000000</td>\n",
              "      <td>4356.000000</td>\n",
              "      <td>99.000000</td>\n",
              "      <td>NaN</td>\n",
              "      <td>NaN</td>\n",
              "    </tr>\n",
              "  </tbody>\n",
              "</table>\n",
              "</div>"
            ],
            "text/plain": [
              "                 age workclass  ...  native-country  income\n",
              "count   32561.000000     30725  ...           31978   32561\n",
              "unique           NaN         8  ...              41       2\n",
              "top              NaN   Private  ...   United-States   <=50K\n",
              "freq             NaN     22696  ...           29170   24720\n",
              "mean       38.581647       NaN  ...             NaN     NaN\n",
              "std        13.640433       NaN  ...             NaN     NaN\n",
              "min        17.000000       NaN  ...             NaN     NaN\n",
              "25%        28.000000       NaN  ...             NaN     NaN\n",
              "50%        37.000000       NaN  ...             NaN     NaN\n",
              "75%        48.000000       NaN  ...             NaN     NaN\n",
              "max        90.000000       NaN  ...             NaN     NaN\n",
              "\n",
              "[11 rows x 15 columns]"
            ]
          },
          "metadata": {
            "tags": []
          },
          "execution_count": 21
        }
      ]
    },
    {
      "cell_type": "code",
      "metadata": {
        "id": "73eXywhTsABS",
        "colab_type": "code",
        "colab": {
          "base_uri": "https://localhost:8080/",
          "height": 237
        },
        "outputId": "a4fdaf7e-f55e-493d-e1e7-2a401b229e98"
      },
      "source": [
        "df['age']"
      ],
      "execution_count": 23,
      "outputs": [
        {
          "output_type": "execute_result",
          "data": {
            "text/plain": [
              "0        39\n",
              "1        50\n",
              "2        38\n",
              "3        53\n",
              "4        28\n",
              "         ..\n",
              "32556    27\n",
              "32557    40\n",
              "32558    58\n",
              "32559    22\n",
              "32560    52\n",
              "Name: age, Length: 32561, dtype: int64"
            ]
          },
          "metadata": {
            "tags": []
          },
          "execution_count": 23
        }
      ]
    },
    {
      "cell_type": "code",
      "metadata": {
        "id": "PL2eLorPsFQt",
        "colab_type": "code",
        "colab": {
          "base_uri": "https://localhost:8080/",
          "height": 164
        },
        "outputId": "67dfae7d-8690-4fed-cc76-b6e2bb9873c6"
      },
      "source": [
        "df['marital-status'].value_counts()"
      ],
      "execution_count": 24,
      "outputs": [
        {
          "output_type": "execute_result",
          "data": {
            "text/plain": [
              " Married-civ-spouse       14976\n",
              " Never-married            10683\n",
              " Divorced                  4443\n",
              " Separated                 1025\n",
              " Widowed                    993\n",
              " Married-spouse-absent      418\n",
              " Married-AF-spouse           23\n",
              "Name: marital-status, dtype: int64"
            ]
          },
          "metadata": {
            "tags": []
          },
          "execution_count": 24
        }
      ]
    },
    {
      "cell_type": "markdown",
      "metadata": {
        "id": "9zx_C0SKsNU7",
        "colab_type": "text"
      },
      "source": [
        "## Challenge\n",
        "\n",
        "Hopefully a lot of the above functions are review for you from the precourse material, but if not, again, don't worry. We'll be using these again on the assignment and most days of class -whenever we need to wrap our head around a new dataset."
      ]
    },
    {
      "cell_type": "markdown",
      "metadata": {
        "id": "9pQ5XKZMPA4b",
        "colab_type": "text"
      },
      "source": [
        "# [Objective](#pandas-visualizations) Generate Basic Visualizations (graphs) with Pandas"
      ]
    },
    {
      "cell_type": "markdown",
      "metadata": {
        "id": "mUdn5YhXqe3m",
        "colab_type": "text"
      },
      "source": [
        "## Overview\n",
        "\n",
        "One of the cornerstones of Exploratory Data Analysis (EDA) is visualizing our data in order to understand their distributions and how they're interrelated. Our brains are amazing pattern detection machines and sometimes the \"eyeball test\" is the most efficient one. In this section we'll look at some of the most basic kinds of \"exploratory visualizations\" to help us better understand our data."
      ]
    },
    {
      "cell_type": "markdown",
      "metadata": {
        "id": "CE1OpSBpljcU",
        "colab_type": "text"
      },
      "source": [
        "## Follow Along\n",
        "\n",
        "Lets demonstrate creating a:\n",
        "\n",
        "- Line Plot\n",
        "- Histogram\n",
        "- Scatter Plot\n",
        "- Density Plot\n",
        "- Making plots of our crosstabs\n",
        "\n",
        "How does each of these plots show us something different about the data? \n",
        "\n",
        "Why might it be important for us to be able to visualize how our data is distributed?"
      ]
    },
    {
      "cell_type": "markdown",
      "metadata": {
        "id": "-cPyM8eLlIQB",
        "colab_type": "text"
      },
      "source": [
        "### Line Plot"
      ]
    },
    {
      "cell_type": "code",
      "metadata": {
        "id": "vGXfTAyJlU4J",
        "colab_type": "code",
        "colab": {
          "base_uri": "https://localhost:8080/",
          "height": 329
        },
        "outputId": "7eb80e5f-27cb-4dcf-f679-ae58efaafe09"
      },
      "source": [
        "df['education-num'].value_counts().sort_index()"
      ],
      "execution_count": 25,
      "outputs": [
        {
          "output_type": "execute_result",
          "data": {
            "text/plain": [
              "1        51\n",
              "2       168\n",
              "3       333\n",
              "4       646\n",
              "5       514\n",
              "6       933\n",
              "7      1175\n",
              "8       433\n",
              "9     10501\n",
              "10     7291\n",
              "11     1382\n",
              "12     1067\n",
              "13     5355\n",
              "14     1723\n",
              "15      576\n",
              "16      413\n",
              "Name: education-num, dtype: int64"
            ]
          },
          "metadata": {
            "tags": []
          },
          "execution_count": 25
        }
      ]
    },
    {
      "cell_type": "code",
      "metadata": {
        "id": "Hh-QRIs9sneW",
        "colab_type": "code",
        "colab": {
          "base_uri": "https://localhost:8080/",
          "height": 265
        },
        "outputId": "5f3db27a-7a2e-471c-973e-ff137918df1f"
      },
      "source": [
        "df['education-num'].value_counts().sort_index().plot();"
      ],
      "execution_count": 29,
      "outputs": [
        {
          "output_type": "display_data",
          "data": {
            "image/png": "[encoded data removed]",
            "text/plain": [
              "<Figure size 432x288 with 1 Axes>"
            ]
          },
          "metadata": {
            "tags": []
          }
        }
      ]
    },
    {
      "cell_type": "markdown",
      "metadata": {
        "id": "MvT2W_HulJuR",
        "colab_type": "text"
      },
      "source": [
        "### Histogram"
      ]
    },
    {
      "cell_type": "code",
      "metadata": {
        "id": "GJg_yWrMlVRs",
        "colab_type": "code",
        "colab": {
          "base_uri": "https://localhost:8080/",
          "height": 265
        },
        "outputId": "b34b447a-25e5-4237-c922-e6003a90cd7d"
      },
      "source": [
        "df['education-num'].hist(bins=16);"
      ],
      "execution_count": 28,
      "outputs": [
        {
          "output_type": "display_data",
          "data": {
            "image/png": "[encoded data removed]",
            "text/plain": [
              "<Figure size 432x288 with 1 Axes>"
            ]
          },
          "metadata": {
            "tags": []
          }
        }
      ]
    },
    {
      "cell_type": "markdown",
      "metadata": {
        "id": "P67iVO7ulK5J",
        "colab_type": "text"
      },
      "source": [
        "### Scatter Plot\n"
      ]
    },
    {
      "cell_type": "code",
      "metadata": {
        "id": "Tz9J6YqnlV0j",
        "colab_type": "code",
        "colab": {
          "base_uri": "https://localhost:8080/",
          "height": 279
        },
        "outputId": "de43e783-50c2-47ba-e27f-feb39391bf7e"
      },
      "source": [
        "df.plot.scatter('age', 'hours-per-week');"
      ],
      "execution_count": 32,
      "outputs": [
        {
          "output_type": "display_data",
          "data": {
            "image/png": "[encoded data removed]",
            "text/plain": [
              "<Figure size 432x288 with 1 Axes>"
            ]
          },
          "metadata": {
            "tags": []
          }
        }
      ]
    },
    {
      "cell_type": "markdown",
      "metadata": {
        "id": "O5Q6uv49lOOZ",
        "colab_type": "text"
      },
      "source": [
        "### Density Plot - Kernel Density Estimate (KDE)"
      ]
    },
    {
      "cell_type": "code",
      "metadata": {
        "id": "bP0m6J-8t_QI",
        "colab_type": "code",
        "colab": {
          "base_uri": "https://localhost:8080/",
          "height": 265
        },
        "outputId": "47845e1c-061e-4824-9eac-9d56050a7e19"
      },
      "source": [
        "df['age'].plot.hist(bins=72);"
      ],
      "execution_count": 35,
      "outputs": [
        {
          "output_type": "display_data",
          "data": {
            "image/png": "[encoded data removed]",
            "text/plain": [
              "<Figure size 432x288 with 1 Axes>"
            ]
          },
          "metadata": {
            "tags": []
          }
        }
      ]
    },
    {
      "cell_type": "code",
      "metadata": {
        "id": "MBpB3NqjlWc8",
        "colab_type": "code",
        "colab": {
          "base_uri": "https://localhost:8080/",
          "height": 265
        },
        "outputId": "58884ce2-331a-41fc-e2d7-936c6d74c52f"
      },
      "source": [
        "df['age'].plot.density();"
      ],
      "execution_count": 34,
      "outputs": [
        {
          "output_type": "display_data",
          "data": {
            "image/png": "[encoded data removed]",
            "text/plain": [
              "<Figure size 432x288 with 1 Axes>"
            ]
          },
          "metadata": {
            "tags": []
          }
        }
      ]
    },
    {
      "cell_type": "markdown",
      "metadata": {
        "id": "1vwTB_8ZlQHl",
        "colab_type": "text"
      },
      "source": [
        "### Plotting using Crosstabs"
      ]
    },
    {
      "cell_type": "code",
      "metadata": {
        "id": "agnXxQNrlXFC",
        "colab_type": "code",
        "colab": {
          "base_uri": "https://localhost:8080/",
          "height": 583
        },
        "outputId": "a3db3164-d5cd-40b3-ac7c-16cf855109eb"
      },
      "source": [
        "pd.crosstab(df['education-num'], df['sex'])"
      ],
      "execution_count": 36,
      "outputs": [
        {
          "output_type": "execute_result",
          "data": {
            "text/html": [
              "<div>\n",
              "<style scoped>\n",
              "    .dataframe tbody tr th:only-of-type {\n",
              "        vertical-align: middle;\n",
              "    }\n",
              "\n",
              "    .dataframe tbody tr th {\n",
              "        vertical-align: top;\n",
              "    }\n",
              "\n",
              "    .dataframe thead th {\n",
              "        text-align: right;\n",
              "    }\n",
              "</style>\n",
              "<table border=\"1\" class=\"dataframe\">\n",
              "  <thead>\n",
              "    <tr style=\"text-align: right;\">\n",
              "      <th>sex</th>\n",
              "      <th>Female</th>\n",
              "      <th>Male</th>\n",
              "    </tr>\n",
              "    <tr>\n",
              "      <th>education-num</th>\n",
              "      <th></th>\n",
              "      <th></th>\n",
              "    </tr>\n",
              "  </thead>\n",
              "  <tbody>\n",
              "    <tr>\n",
              "      <th>1</th>\n",
              "      <td>16</td>\n",
              "      <td>35</td>\n",
              "    </tr>\n",
              "    <tr>\n",
              "      <th>2</th>\n",
              "      <td>46</td>\n",
              "      <td>122</td>\n",
              "    </tr>\n",
              "    <tr>\n",
              "      <th>3</th>\n",
              "      <td>84</td>\n",
              "      <td>249</td>\n",
              "    </tr>\n",
              "    <tr>\n",
              "      <th>4</th>\n",
              "      <td>160</td>\n",
              "      <td>486</td>\n",
              "    </tr>\n",
              "    <tr>\n",
              "      <th>5</th>\n",
              "      <td>144</td>\n",
              "      <td>370</td>\n",
              "    </tr>\n",
              "    <tr>\n",
              "      <th>6</th>\n",
              "      <td>295</td>\n",
              "      <td>638</td>\n",
              "    </tr>\n",
              "    <tr>\n",
              "      <th>7</th>\n",
              "      <td>432</td>\n",
              "      <td>743</td>\n",
              "    </tr>\n",
              "    <tr>\n",
              "      <th>8</th>\n",
              "      <td>144</td>\n",
              "      <td>289</td>\n",
              "    </tr>\n",
              "    <tr>\n",
              "      <th>9</th>\n",
              "      <td>3390</td>\n",
              "      <td>7111</td>\n",
              "    </tr>\n",
              "    <tr>\n",
              "      <th>10</th>\n",
              "      <td>2806</td>\n",
              "      <td>4485</td>\n",
              "    </tr>\n",
              "    <tr>\n",
              "      <th>11</th>\n",
              "      <td>500</td>\n",
              "      <td>882</td>\n",
              "    </tr>\n",
              "    <tr>\n",
              "      <th>12</th>\n",
              "      <td>421</td>\n",
              "      <td>646</td>\n",
              "    </tr>\n",
              "    <tr>\n",
              "      <th>13</th>\n",
              "      <td>1619</td>\n",
              "      <td>3736</td>\n",
              "    </tr>\n",
              "    <tr>\n",
              "      <th>14</th>\n",
              "      <td>536</td>\n",
              "      <td>1187</td>\n",
              "    </tr>\n",
              "    <tr>\n",
              "      <th>15</th>\n",
              "      <td>92</td>\n",
              "      <td>484</td>\n",
              "    </tr>\n",
              "    <tr>\n",
              "      <th>16</th>\n",
              "      <td>86</td>\n",
              "      <td>327</td>\n",
              "    </tr>\n",
              "  </tbody>\n",
              "</table>\n",
              "</div>"
            ],
            "text/plain": [
              "sex             Female   Male\n",
              "education-num                \n",
              "1                   16     35\n",
              "2                   46    122\n",
              "3                   84    249\n",
              "4                  160    486\n",
              "5                  144    370\n",
              "6                  295    638\n",
              "7                  432    743\n",
              "8                  144    289\n",
              "9                 3390   7111\n",
              "10                2806   4485\n",
              "11                 500    882\n",
              "12                 421    646\n",
              "13                1619   3736\n",
              "14                 536   1187\n",
              "15                  92    484\n",
              "16                  86    327"
            ]
          },
          "metadata": {
            "tags": []
          },
          "execution_count": 36
        }
      ]
    },
    {
      "cell_type": "code",
      "metadata": {
        "id": "fbrJdsqbuz2T",
        "colab_type": "code",
        "colab": {
          "base_uri": "https://localhost:8080/",
          "height": 279
        },
        "outputId": "e2a520b1-63b0-4dc8-bacf-94488b47bb23"
      },
      "source": [
        "pd.crosstab(df['education-num'], df['sex']).plot();"
      ],
      "execution_count": 37,
      "outputs": [
        {
          "output_type": "display_data",
          "data": {
            "image/png": "[encoded data removed]",
            "text/plain": [
              "<Figure size 432x288 with 1 Axes>"
            ]
          },
          "metadata": {
            "tags": []
          }
        }
      ]
    },
    {
      "cell_type": "code",
      "metadata": {
        "id": "7XNHScHRvEEE",
        "colab_type": "code",
        "colab": {
          "base_uri": "https://localhost:8080/",
          "height": 282
        },
        "outputId": "7241bc99-d74e-43e0-bacf-33fb71f5d7f7"
      },
      "source": [
        "pd.crosstab(df['education-num'], df['sex']).plot(kind='bar');"
      ],
      "execution_count": 39,
      "outputs": [
        {
          "output_type": "display_data",
          "data": {
            "image/png": "[encoded data removed]",
            "text/plain": [
              "<Figure size 432x288 with 1 Axes>"
            ]
          },
          "metadata": {
            "tags": []
          }
        }
      ]
    },
    {
      "cell_type": "code",
      "metadata": {
        "id": "nQi-8-JJvQUN",
        "colab_type": "code",
        "colab": {
          "base_uri": "https://localhost:8080/",
          "height": 265
        },
        "outputId": "5744528c-eff0-4c39-ee62-2d4129034763"
      },
      "source": [
        "pd.crosstab(df['education-num'], df['sex']).plot(kind='barh');"
      ],
      "execution_count": 40,
      "outputs": [
        {
          "output_type": "display_data",
          "data": {
            "image/png": "[encoded data removed]",
            "text/plain": [
              "<Figure size 432x288 with 1 Axes>"
            ]
          },
          "metadata": {
            "tags": []
          }
        }
      ]
    },
    {
      "cell_type": "code",
      "metadata": {
        "id": "DbkRLlSTvTDz",
        "colab_type": "code",
        "colab": {
          "base_uri": "https://localhost:8080/",
          "height": 282
        },
        "outputId": "0a518046-1f2a-4623-fa68-0af41b53f92b"
      },
      "source": [
        "pd.crosstab(df['education-num'], df['sex']).plot(kind='bar', stacked=True);"
      ],
      "execution_count": 41,
      "outputs": [
        {
          "output_type": "display_data",
          "data": {
            "image/png": "[encoded data removed]",
            "text/plain": [
              "<Figure size 432x288 with 1 Axes>"
            ]
          },
          "metadata": {
            "tags": []
          }
        }
      ]
    },
    {
      "cell_type": "markdown",
      "metadata": {
        "id": "y2qBPH-Wsiar",
        "colab_type": "text"
      },
      "source": [
        "## Challenge\n",
        "\n",
        "These are some of the most basic and important types of data visualizations. They're so important that they're built straight into Pandas and can be accessed with some very concise code. At the beginning our data exploration is about understanding the characteristics of our dataset, but over time it becomes about communicating insights in as effective and digestable a manner as possible, and that typically means using graphs in one way or another. See how intuitive of a graph you can make using a crosstab on this dataset."
      ]
    },
    {
      "cell_type": "markdown",
      "metadata": {
        "id": "trZtxlPtASwI",
        "colab_type": "text"
      },
      "source": [
        "# Review\n",
        "\n",
        "Whew, that was a lot. Again, if this content seems overwhelming, remember that this won't be the last time that we'll talk about the skills contained in this lesson. They're right at the beginning of the course because we'll use these skills nearly every day, so you'll get really good at these things in no time!\n",
        "\n",
        "You know when you're learning a new board game and somebody tries to explain the rules to you and it doesn't make very much sense? My friends always end up saying something like: \"It sounds more complicated then it really is, lets just play a round and you'll get it.\" \n",
        "\n",
        "That's the same message that I have for you. There's a lot of new things here at Lambda School in the first week:\n",
        "\n",
        "- New Course\n",
        "- New Schedule\n",
        "- New Community\n",
        "- New Tools\n",
        "- New Processes\n",
        "- New Content\n",
        "\n",
        "As we go through a cycle of one sprint, it will all start making a whole lot more sense. \n",
        "\n",
        "---\n",
        "\n",
        "Your assignment for this afternoon can be found in the -other- notebook inside the module folder in this week's repository on GitHub. You are going to pick another [UCI Machine Learning Repository](https://archive.ics.uci.edu/ml/index.php) dataset and do much of the same as what we have done above.\n",
        "\n",
        "In order to start out with something that won't be impossibly hard, please use one of the datasets that is listed as \"Most Popular\" on the right side of the UCI website.\n",
        "\n",
        "Why am I **not** assigning a specific dataset to you for your assignment? As a baby step in getting you more comfortable with open-endedness. Traditional education has been training you to expect there to be a single correct solution to things -that's rarely the case in data science. There are pros and cons to every decision that we make. Over the course of the first unit, we will work on helping you be comfortable open-endedness as we navigate the sea of tradeoffs that exist when we approach data. and you choosing the dataset for your assignment is the first tiny step that we're going to take in that direction. \n",
        "\n",
        "Assignment Notebook:\n",
        "\n"
      ]
    }
  ]
}